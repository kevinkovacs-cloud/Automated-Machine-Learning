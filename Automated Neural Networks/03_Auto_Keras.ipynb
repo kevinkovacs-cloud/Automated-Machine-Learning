{
 "cells": [
  {
   "cell_type": "markdown",
   "id": "0beb3bdd",
   "metadata": {},
   "source": [
    "<a id = \"1.0\"></a>\n",
    "<p style=\"font-size:15px;color:#16268a;font-family:'Comic Sans MS';text-align:right;border-radius:5px 5px;\">\n",
    "    <i>Aprender una técnica no es un fin en si mismo,<br>simplemente indica por donde hay que empezar</i><br><b>Proverbio Japonés</b></p> \n",
    "<p style=\"font-size:15px;color:#16268a;font-family:'Comic Sans MS';text-align:right;border-radius:5px 5px;\">\n",
    "<i>Material curado y organizado por el Prof. Dr. Hernán D. Merlino</i><br> \n",
    "<i>Clasificación binaria usando Keras Versión 1.0 - 2022 Q3</i></p>     \n",
    "<p style=\"font-size:15px;color:#16268a;font-family:'Comic Sans MS';text-align:right;border-radius:5px 5px;\">\n",
    "<strong>Código fuente adaptado para el curso</strong><br>     \n",
    "<a href=\"https://machinelearningmastery.com/autokeras-for-classification-and-regression/\" target=\\\"_blank\\\">How to Use AutoKeras for Classification and Regression</a>\n",
    "<a id = \"1.0\"></a>\n",
    "<p style=\"font-size:25px;color:#16268a;font-family:'Comic Sans MS';text-align:center;border-radius:5px;\">\n",
    "<strong>_____________________________</strong></p>"
   ]
  },
  {
   "cell_type": "markdown",
   "id": "4f4e128a",
   "metadata": {},
   "source": [
    "<a id = \"1.0\"></a>\n",
    "<p style=\"font-size:25px;color:#16268a;font-family:'Comic Sans MS';text-align:center;border-radius:5px;\">\n",
    "<strong>Auto Keras</strong></p>"
   ]
  },
  {
   "cell_type": "markdown",
   "id": "8eceaf63",
   "metadata": {},
   "source": [
    "<p style=\"font-size:15px;color:#16268a;font-family:'Comic Sans MS';text-align:left;border-radius:5px 5px;\">\n",
    "<strong>Versiones de bibliotecas con las que fue ejecutado el código</strong><br> \n",
    "<ol style=\"font-size:15px;color:#16268a;font-family:'Comic Sans MS';text-align:left;border-radius:5px 5px;\">\n",
    "<li>Python</li> \n",
    "<li>Numpy</li> \n",
    "<li>Pandas</li> \n",
    "<li>Autokeras</li> \n",
    "</ol>\n",
    "</p> \n",
    "<a id = \"1.0\"></a>\n",
    "<p style=\"font-size:25px;color:#16268a;font-family:'Comic Sans MS';text-align:center;border-radius:5px;\">\n",
    "<strong>_____________________________</strong></p>"
   ]
  },
  {
   "cell_type": "markdown",
   "id": "a0d73b98",
   "metadata": {},
   "source": [
    "<a id = \"1.0\"></a>\n",
    "<p style=\"font-size:15px;color:#16268a;font-family:'Comic Sans MS';text-align:left;border-radius:5px 5px;\">\n",
    "<strong>Cargar librerias</strong></p> "
   ]
  },
  {
   "cell_type": "code",
   "execution_count": 10,
   "id": "109e4cc8",
   "metadata": {},
   "outputs": [],
   "source": [
    "import gc\n",
    "iInitial = len(gc.get_objects())"
   ]
  },
  {
   "cell_type": "code",
   "execution_count": 1,
   "id": "1b602d31",
   "metadata": {},
   "outputs": [],
   "source": [
    "from platform import python_version"
   ]
  },
  {
   "cell_type": "code",
   "execution_count": 2,
   "id": "cf65afc9",
   "metadata": {},
   "outputs": [],
   "source": [
    "import warnings\n",
    "warnings.filterwarnings(\"ignore\")"
   ]
  },
  {
   "cell_type": "code",
   "execution_count": 3,
   "id": "8f9ed6f4",
   "metadata": {
    "scrolled": false
   },
   "outputs": [],
   "source": [
    "import pandas as pd\n",
    "#Configuración de parametros de Pandas para mejor visualización\n",
    "pd.set_option('display.max_columns', None)\n",
    "pd.set_option('display.max_rows', None)\n",
    "pd.set_option('display.max_colwidth', None)\n",
    "pd.set_option('display.precision', 5)\n",
    "pd.set_option('plotting.backend', 'matplotlib') \n",
    "pd.options.mode.chained_assignment = None"
   ]
  },
  {
   "cell_type": "code",
   "execution_count": 4,
   "id": "801e79f5",
   "metadata": {},
   "outputs": [],
   "source": [
    "import numpy as np\n",
    "np.set_printoptions(suppress=True)\n",
    "np.random.seed(5)\n",
    "from numpy import asarray"
   ]
  },
  {
   "cell_type": "code",
   "execution_count": 19,
   "id": "b7754a2c",
   "metadata": {
    "scrolled": false
   },
   "outputs": [],
   "source": [
    "from sklearn.pipeline import Pipeline\n",
    "from sklearn.metrics import accuracy_score\n",
    "from sklearn.preprocessing import LabelEncoder\n",
    "from sklearn.model_selection import StratifiedKFold\n",
    "from sklearn.preprocessing import StandardScaler\n",
    "from sklearn.model_selection import train_test_split"
   ]
  },
  {
   "cell_type": "code",
   "execution_count": 6,
   "id": "89661c41",
   "metadata": {},
   "outputs": [],
   "source": [
    "import autokeras"
   ]
  },
  {
   "cell_type": "code",
   "execution_count": 7,
   "id": "0ca045a0",
   "metadata": {},
   "outputs": [],
   "source": [
    "from autokeras import StructuredDataClassifier"
   ]
  },
  {
   "cell_type": "markdown",
   "id": "dcbbc054",
   "metadata": {},
   "source": [
    "<a id = \"1.0\"></a>\n",
    "<p style=\"font-size:15px;color:#16268a;font-family:'Comic Sans MS';text-align:left;border-radius:5px 5px;\">\n",
    "<strong>Código para verficación de versionado de librerías</strong></p> "
   ]
  },
  {
   "cell_type": "code",
   "execution_count": 8,
   "id": "6bcef084",
   "metadata": {},
   "outputs": [
    {
     "name": "stdout",
     "output_type": "stream",
     "text": [
      "\n",
      "Librerías base__________________________________\n",
      "Python          :3.11.10\n",
      "Numpy           :1.23.5\n",
      "Pandas          :2.2.3\n",
      "Autokeras       :1.0.20\n",
      "\n",
      "Librerías jupyter_______________________________\n",
      "Ipython         : 8.29.0\n",
      "Ipykernel       : 6.29.5\n",
      "Ipywidgets      : 7.8.5\n",
      "Jupyter_client  : 7.4.9\n",
      "Jupyter_core    : 5.7.2\n",
      "Jupyter_server  : 2.14.2\n",
      "Jupyterlab      : 4.3.0\n",
      "Nbclient        : 0.10.0\n",
      "Nbconvert       : 7.16.4\n",
      "Nbformat        : 5.10.4\n",
      "Notebook        : 6.5.7\n",
      "Qtconsole       : not installed\n",
      "Traitlets       : 5.14.3\n",
      "________________________________________________\n",
      "\n"
     ]
    }
   ],
   "source": [
    "print('\\nLibrerías base__________________________________')\n",
    "print('Python'.ljust(15) + ' :' + str(python_version()))\n",
    "print('Numpy'.ljust(15) + ' :' + str(np.__version__))\n",
    "print('Pandas'.ljust(15) + ' :' + str(pd.__version__)) \n",
    "print('Autokeras'.ljust(15) + ' :' + str(autokeras.__version__))\n",
    "print('\\nLibrerías jupyter_______________________________')\n",
    "bfJuppyter = !jupyter --version\n",
    "for bfPackages in bfJuppyter:\n",
    "    if bfPackages.count('Selected Jupyter')==0:\n",
    "        arPackages = bfPackages.split(':')\n",
    "        print(arPackages[0].strip().capitalize().ljust(15) + ' :' + arPackages[1]) \n",
    "print('________________________________________________\\n')        "
   ]
  },
  {
   "cell_type": "code",
   "execution_count": 11,
   "id": "55f92e88",
   "metadata": {},
   "outputs": [],
   "source": [
    "iTotal = len(gc.get_objects())\n",
    "del python_version\n",
    "del autokeras\n",
    "gc.collect()\n",
    "iFinal = len(gc.get_objects())"
   ]
  },
  {
   "cell_type": "code",
   "execution_count": 12,
   "id": "a3d3a1aa",
   "metadata": {},
   "outputs": [
    {
     "name": "stdout",
     "output_type": "stream",
     "text": [
      "Garbage Collector Objects:\n",
      "Start: 454465\n",
      "Total: 454513\n",
      "End  : 453553\n"
     ]
    }
   ],
   "source": [
    "print('Garbage Collector Objects:')\n",
    "print(f'Start: {iInitial}')\n",
    "print(f'Total: {iTotal}')\n",
    "print(f'End  : {iFinal}')"
   ]
  },
  {
   "cell_type": "markdown",
   "id": "52437569",
   "metadata": {},
   "source": [
    "<a id = \"1.0\"></a>\n",
    "<p style=\"font-size:25px;color:#16268a;font-family:'Comic Sans MS';text-align:center;border-radius:5px;\">\n",
    "<strong>_____________________________</strong></p>"
   ]
  },
  {
   "cell_type": "markdown",
   "id": "8f1839a9",
   "metadata": {},
   "source": [
    "<a id = \"1.0\"></a>\n",
    "<p style=\"font-size:15px;color:#16268a;font-family:'Comic Sans MS';text-align:left;border-radius:5px 5px;\">\n",
    "<strong>Cargar Dataset</strong></p> "
   ]
  },
  {
   "cell_type": "code",
   "execution_count": 13,
   "id": "c1cafbe6",
   "metadata": {},
   "outputs": [],
   "source": [
    "data = pd.read_csv(\"./data/sonar.csv\", header=0)"
   ]
  },
  {
   "cell_type": "code",
   "execution_count": 14,
   "id": "1605007a",
   "metadata": {},
   "outputs": [
    {
     "data": {
      "text/html": [
       "<div>\n",
       "<style scoped>\n",
       "    .dataframe tbody tr th:only-of-type {\n",
       "        vertical-align: middle;\n",
       "    }\n",
       "\n",
       "    .dataframe tbody tr th {\n",
       "        vertical-align: top;\n",
       "    }\n",
       "\n",
       "    .dataframe thead th {\n",
       "        text-align: right;\n",
       "    }\n",
       "</style>\n",
       "<table border=\"1\" class=\"dataframe\">\n",
       "  <thead>\n",
       "    <tr style=\"text-align: right;\">\n",
       "      <th></th>\n",
       "      <th>V1</th>\n",
       "      <th>V2</th>\n",
       "      <th>V3</th>\n",
       "      <th>V4</th>\n",
       "      <th>V5</th>\n",
       "      <th>V6</th>\n",
       "      <th>V7</th>\n",
       "      <th>V8</th>\n",
       "      <th>V9</th>\n",
       "      <th>V10</th>\n",
       "      <th>V11</th>\n",
       "      <th>V12</th>\n",
       "      <th>V13</th>\n",
       "      <th>V14</th>\n",
       "      <th>V15</th>\n",
       "      <th>V16</th>\n",
       "      <th>V17</th>\n",
       "      <th>V18</th>\n",
       "      <th>V19</th>\n",
       "      <th>V20</th>\n",
       "      <th>V21</th>\n",
       "      <th>V22</th>\n",
       "      <th>V23</th>\n",
       "      <th>V24</th>\n",
       "      <th>V25</th>\n",
       "      <th>V26</th>\n",
       "      <th>V27</th>\n",
       "      <th>V28</th>\n",
       "      <th>V29</th>\n",
       "      <th>V30</th>\n",
       "      <th>V31</th>\n",
       "      <th>V32</th>\n",
       "      <th>V33</th>\n",
       "      <th>V34</th>\n",
       "      <th>V35</th>\n",
       "      <th>V36</th>\n",
       "      <th>V37</th>\n",
       "      <th>V38</th>\n",
       "      <th>V39</th>\n",
       "      <th>V40</th>\n",
       "      <th>V41</th>\n",
       "      <th>V42</th>\n",
       "      <th>V43</th>\n",
       "      <th>V44</th>\n",
       "      <th>V45</th>\n",
       "      <th>V46</th>\n",
       "      <th>V47</th>\n",
       "      <th>V48</th>\n",
       "      <th>V49</th>\n",
       "      <th>V50</th>\n",
       "      <th>V51</th>\n",
       "      <th>V52</th>\n",
       "      <th>V53</th>\n",
       "      <th>V54</th>\n",
       "      <th>V55</th>\n",
       "      <th>V56</th>\n",
       "      <th>V57</th>\n",
       "      <th>V58</th>\n",
       "      <th>V59</th>\n",
       "      <th>V60</th>\n",
       "      <th>Class</th>\n",
       "    </tr>\n",
       "  </thead>\n",
       "  <tbody>\n",
       "    <tr>\n",
       "      <th>0</th>\n",
       "      <td>0.0200</td>\n",
       "      <td>0.0371</td>\n",
       "      <td>0.0428</td>\n",
       "      <td>0.0207</td>\n",
       "      <td>0.0954</td>\n",
       "      <td>0.0986</td>\n",
       "      <td>0.1539</td>\n",
       "      <td>0.1601</td>\n",
       "      <td>0.3109</td>\n",
       "      <td>0.2111</td>\n",
       "      <td>0.1609</td>\n",
       "      <td>0.1582</td>\n",
       "      <td>0.2238</td>\n",
       "      <td>0.0645</td>\n",
       "      <td>0.0660</td>\n",
       "      <td>0.2273</td>\n",
       "      <td>0.3100</td>\n",
       "      <td>0.2999</td>\n",
       "      <td>0.5078</td>\n",
       "      <td>0.4797</td>\n",
       "      <td>0.5783</td>\n",
       "      <td>0.5071</td>\n",
       "      <td>0.4328</td>\n",
       "      <td>0.5550</td>\n",
       "      <td>0.6711</td>\n",
       "      <td>0.6415</td>\n",
       "      <td>0.7104</td>\n",
       "      <td>0.8080</td>\n",
       "      <td>0.6791</td>\n",
       "      <td>0.3857</td>\n",
       "      <td>0.1307</td>\n",
       "      <td>0.2604</td>\n",
       "      <td>0.5121</td>\n",
       "      <td>0.7547</td>\n",
       "      <td>0.8537</td>\n",
       "      <td>0.8507</td>\n",
       "      <td>0.6692</td>\n",
       "      <td>0.6097</td>\n",
       "      <td>0.4943</td>\n",
       "      <td>0.2744</td>\n",
       "      <td>0.0510</td>\n",
       "      <td>0.2834</td>\n",
       "      <td>0.2825</td>\n",
       "      <td>0.4256</td>\n",
       "      <td>0.2641</td>\n",
       "      <td>0.1386</td>\n",
       "      <td>0.1051</td>\n",
       "      <td>0.1343</td>\n",
       "      <td>0.0383</td>\n",
       "      <td>0.0324</td>\n",
       "      <td>0.0232</td>\n",
       "      <td>0.0027</td>\n",
       "      <td>0.0065</td>\n",
       "      <td>0.0159</td>\n",
       "      <td>0.0072</td>\n",
       "      <td>0.0167</td>\n",
       "      <td>0.0180</td>\n",
       "      <td>0.0084</td>\n",
       "      <td>0.0090</td>\n",
       "      <td>0.0032</td>\n",
       "      <td>1</td>\n",
       "    </tr>\n",
       "    <tr>\n",
       "      <th>1</th>\n",
       "      <td>0.0453</td>\n",
       "      <td>0.0523</td>\n",
       "      <td>0.0843</td>\n",
       "      <td>0.0689</td>\n",
       "      <td>0.1183</td>\n",
       "      <td>0.2583</td>\n",
       "      <td>0.2156</td>\n",
       "      <td>0.3481</td>\n",
       "      <td>0.3337</td>\n",
       "      <td>0.2872</td>\n",
       "      <td>0.4918</td>\n",
       "      <td>0.6552</td>\n",
       "      <td>0.6919</td>\n",
       "      <td>0.7797</td>\n",
       "      <td>0.7464</td>\n",
       "      <td>0.9444</td>\n",
       "      <td>1.0000</td>\n",
       "      <td>0.8874</td>\n",
       "      <td>0.8024</td>\n",
       "      <td>0.7818</td>\n",
       "      <td>0.5212</td>\n",
       "      <td>0.4052</td>\n",
       "      <td>0.3957</td>\n",
       "      <td>0.3914</td>\n",
       "      <td>0.3250</td>\n",
       "      <td>0.3200</td>\n",
       "      <td>0.3271</td>\n",
       "      <td>0.2767</td>\n",
       "      <td>0.4423</td>\n",
       "      <td>0.2028</td>\n",
       "      <td>0.3788</td>\n",
       "      <td>0.2947</td>\n",
       "      <td>0.1984</td>\n",
       "      <td>0.2341</td>\n",
       "      <td>0.1306</td>\n",
       "      <td>0.4182</td>\n",
       "      <td>0.3835</td>\n",
       "      <td>0.1057</td>\n",
       "      <td>0.1840</td>\n",
       "      <td>0.1970</td>\n",
       "      <td>0.1674</td>\n",
       "      <td>0.0583</td>\n",
       "      <td>0.1401</td>\n",
       "      <td>0.1628</td>\n",
       "      <td>0.0621</td>\n",
       "      <td>0.0203</td>\n",
       "      <td>0.0530</td>\n",
       "      <td>0.0742</td>\n",
       "      <td>0.0409</td>\n",
       "      <td>0.0061</td>\n",
       "      <td>0.0125</td>\n",
       "      <td>0.0084</td>\n",
       "      <td>0.0089</td>\n",
       "      <td>0.0048</td>\n",
       "      <td>0.0094</td>\n",
       "      <td>0.0191</td>\n",
       "      <td>0.0140</td>\n",
       "      <td>0.0049</td>\n",
       "      <td>0.0052</td>\n",
       "      <td>0.0044</td>\n",
       "      <td>1</td>\n",
       "    </tr>\n",
       "    <tr>\n",
       "      <th>2</th>\n",
       "      <td>0.0262</td>\n",
       "      <td>0.0582</td>\n",
       "      <td>0.1099</td>\n",
       "      <td>0.1083</td>\n",
       "      <td>0.0974</td>\n",
       "      <td>0.2280</td>\n",
       "      <td>0.2431</td>\n",
       "      <td>0.3771</td>\n",
       "      <td>0.5598</td>\n",
       "      <td>0.6194</td>\n",
       "      <td>0.6333</td>\n",
       "      <td>0.7060</td>\n",
       "      <td>0.5544</td>\n",
       "      <td>0.5320</td>\n",
       "      <td>0.6479</td>\n",
       "      <td>0.6931</td>\n",
       "      <td>0.6759</td>\n",
       "      <td>0.7551</td>\n",
       "      <td>0.8929</td>\n",
       "      <td>0.8619</td>\n",
       "      <td>0.7974</td>\n",
       "      <td>0.6737</td>\n",
       "      <td>0.4293</td>\n",
       "      <td>0.3648</td>\n",
       "      <td>0.5331</td>\n",
       "      <td>0.2413</td>\n",
       "      <td>0.5070</td>\n",
       "      <td>0.8533</td>\n",
       "      <td>0.6036</td>\n",
       "      <td>0.8514</td>\n",
       "      <td>0.8512</td>\n",
       "      <td>0.5045</td>\n",
       "      <td>0.1862</td>\n",
       "      <td>0.2709</td>\n",
       "      <td>0.4232</td>\n",
       "      <td>0.3043</td>\n",
       "      <td>0.6116</td>\n",
       "      <td>0.6756</td>\n",
       "      <td>0.5375</td>\n",
       "      <td>0.4719</td>\n",
       "      <td>0.4647</td>\n",
       "      <td>0.2587</td>\n",
       "      <td>0.2129</td>\n",
       "      <td>0.2222</td>\n",
       "      <td>0.2111</td>\n",
       "      <td>0.0176</td>\n",
       "      <td>0.1348</td>\n",
       "      <td>0.0744</td>\n",
       "      <td>0.0130</td>\n",
       "      <td>0.0106</td>\n",
       "      <td>0.0033</td>\n",
       "      <td>0.0232</td>\n",
       "      <td>0.0166</td>\n",
       "      <td>0.0095</td>\n",
       "      <td>0.0180</td>\n",
       "      <td>0.0244</td>\n",
       "      <td>0.0316</td>\n",
       "      <td>0.0164</td>\n",
       "      <td>0.0095</td>\n",
       "      <td>0.0078</td>\n",
       "      <td>1</td>\n",
       "    </tr>\n",
       "  </tbody>\n",
       "</table>\n",
       "</div>"
      ],
      "text/plain": [
       "       V1      V2      V3      V4      V5      V6      V7      V8      V9  \\\n",
       "0  0.0200  0.0371  0.0428  0.0207  0.0954  0.0986  0.1539  0.1601  0.3109   \n",
       "1  0.0453  0.0523  0.0843  0.0689  0.1183  0.2583  0.2156  0.3481  0.3337   \n",
       "2  0.0262  0.0582  0.1099  0.1083  0.0974  0.2280  0.2431  0.3771  0.5598   \n",
       "\n",
       "      V10     V11     V12     V13     V14     V15     V16     V17     V18  \\\n",
       "0  0.2111  0.1609  0.1582  0.2238  0.0645  0.0660  0.2273  0.3100  0.2999   \n",
       "1  0.2872  0.4918  0.6552  0.6919  0.7797  0.7464  0.9444  1.0000  0.8874   \n",
       "2  0.6194  0.6333  0.7060  0.5544  0.5320  0.6479  0.6931  0.6759  0.7551   \n",
       "\n",
       "      V19     V20     V21     V22     V23     V24     V25     V26     V27  \\\n",
       "0  0.5078  0.4797  0.5783  0.5071  0.4328  0.5550  0.6711  0.6415  0.7104   \n",
       "1  0.8024  0.7818  0.5212  0.4052  0.3957  0.3914  0.3250  0.3200  0.3271   \n",
       "2  0.8929  0.8619  0.7974  0.6737  0.4293  0.3648  0.5331  0.2413  0.5070   \n",
       "\n",
       "      V28     V29     V30     V31     V32     V33     V34     V35     V36  \\\n",
       "0  0.8080  0.6791  0.3857  0.1307  0.2604  0.5121  0.7547  0.8537  0.8507   \n",
       "1  0.2767  0.4423  0.2028  0.3788  0.2947  0.1984  0.2341  0.1306  0.4182   \n",
       "2  0.8533  0.6036  0.8514  0.8512  0.5045  0.1862  0.2709  0.4232  0.3043   \n",
       "\n",
       "      V37     V38     V39     V40     V41     V42     V43     V44     V45  \\\n",
       "0  0.6692  0.6097  0.4943  0.2744  0.0510  0.2834  0.2825  0.4256  0.2641   \n",
       "1  0.3835  0.1057  0.1840  0.1970  0.1674  0.0583  0.1401  0.1628  0.0621   \n",
       "2  0.6116  0.6756  0.5375  0.4719  0.4647  0.2587  0.2129  0.2222  0.2111   \n",
       "\n",
       "      V46     V47     V48     V49     V50     V51     V52     V53     V54  \\\n",
       "0  0.1386  0.1051  0.1343  0.0383  0.0324  0.0232  0.0027  0.0065  0.0159   \n",
       "1  0.0203  0.0530  0.0742  0.0409  0.0061  0.0125  0.0084  0.0089  0.0048   \n",
       "2  0.0176  0.1348  0.0744  0.0130  0.0106  0.0033  0.0232  0.0166  0.0095   \n",
       "\n",
       "      V55     V56     V57     V58     V59     V60  Class  \n",
       "0  0.0072  0.0167  0.0180  0.0084  0.0090  0.0032      1  \n",
       "1  0.0094  0.0191  0.0140  0.0049  0.0052  0.0044      1  \n",
       "2  0.0180  0.0244  0.0316  0.0164  0.0095  0.0078      1  "
      ]
     },
     "execution_count": 14,
     "metadata": {},
     "output_type": "execute_result"
    }
   ],
   "source": [
    "data.head(3)"
   ]
  },
  {
   "cell_type": "code",
   "execution_count": 15,
   "id": "10acc31c",
   "metadata": {},
   "outputs": [
    {
     "name": "stdout",
     "output_type": "stream",
     "text": [
      "<class 'pandas.core.frame.DataFrame'>\n",
      "RangeIndex: 208 entries, 0 to 207\n",
      "Data columns (total 61 columns):\n",
      " #   Column  Non-Null Count  Dtype  \n",
      "---  ------  --------------  -----  \n",
      " 0   V1      208 non-null    float64\n",
      " 1   V2      208 non-null    float64\n",
      " 2   V3      208 non-null    float64\n",
      " 3   V4      208 non-null    float64\n",
      " 4   V5      208 non-null    float64\n",
      " 5   V6      208 non-null    float64\n",
      " 6   V7      208 non-null    float64\n",
      " 7   V8      208 non-null    float64\n",
      " 8   V9      208 non-null    float64\n",
      " 9   V10     208 non-null    float64\n",
      " 10  V11     208 non-null    float64\n",
      " 11  V12     208 non-null    float64\n",
      " 12  V13     208 non-null    float64\n",
      " 13  V14     208 non-null    float64\n",
      " 14  V15     208 non-null    float64\n",
      " 15  V16     208 non-null    float64\n",
      " 16  V17     208 non-null    float64\n",
      " 17  V18     208 non-null    float64\n",
      " 18  V19     208 non-null    float64\n",
      " 19  V20     208 non-null    float64\n",
      " 20  V21     208 non-null    float64\n",
      " 21  V22     208 non-null    float64\n",
      " 22  V23     208 non-null    float64\n",
      " 23  V24     208 non-null    float64\n",
      " 24  V25     208 non-null    float64\n",
      " 25  V26     208 non-null    float64\n",
      " 26  V27     208 non-null    float64\n",
      " 27  V28     208 non-null    float64\n",
      " 28  V29     208 non-null    float64\n",
      " 29  V30     208 non-null    float64\n",
      " 30  V31     208 non-null    float64\n",
      " 31  V32     208 non-null    float64\n",
      " 32  V33     208 non-null    float64\n",
      " 33  V34     208 non-null    float64\n",
      " 34  V35     208 non-null    float64\n",
      " 35  V36     208 non-null    float64\n",
      " 36  V37     208 non-null    float64\n",
      " 37  V38     208 non-null    float64\n",
      " 38  V39     208 non-null    float64\n",
      " 39  V40     208 non-null    float64\n",
      " 40  V41     208 non-null    float64\n",
      " 41  V42     208 non-null    float64\n",
      " 42  V43     208 non-null    float64\n",
      " 43  V44     208 non-null    float64\n",
      " 44  V45     208 non-null    float64\n",
      " 45  V46     208 non-null    float64\n",
      " 46  V47     208 non-null    float64\n",
      " 47  V48     208 non-null    float64\n",
      " 48  V49     208 non-null    float64\n",
      " 49  V50     208 non-null    float64\n",
      " 50  V51     208 non-null    float64\n",
      " 51  V52     208 non-null    float64\n",
      " 52  V53     208 non-null    float64\n",
      " 53  V54     208 non-null    float64\n",
      " 54  V55     208 non-null    float64\n",
      " 55  V56     208 non-null    float64\n",
      " 56  V57     208 non-null    float64\n",
      " 57  V58     208 non-null    float64\n",
      " 58  V59     208 non-null    float64\n",
      " 59  V60     208 non-null    float64\n",
      " 60  Class   208 non-null    int64  \n",
      "dtypes: float64(60), int64(1)\n",
      "memory usage: 99.3 KB\n"
     ]
    }
   ],
   "source": [
    "data.info()"
   ]
  },
  {
   "cell_type": "markdown",
   "id": "2b961691",
   "metadata": {},
   "source": [
    "<a id = \"1.0\"></a>\n",
    "<p style=\"font-size:20px;color:#16268a;font-family:'Comic Sans MS';text-align:center;border-radius:5px;\">\n",
    "<strong>_____________________________</strong></p>"
   ]
  },
  {
   "cell_type": "markdown",
   "id": "dc552327",
   "metadata": {},
   "source": [
    "<a id = \"1.0\"></a>\n",
    "<p style=\"font-size:15px;color:#16268a;font-family:'Comic Sans MS';text-align:left;border-radius:5px 5px;\">\n",
    "<strong>Features para entrenamiento</strong></p> "
   ]
  },
  {
   "cell_type": "code",
   "execution_count": 16,
   "id": "21399e5d",
   "metadata": {},
   "outputs": [
    {
     "name": "stdout",
     "output_type": "stream",
     "text": [
      "(208, 60) (208, 1)\n"
     ]
    }
   ],
   "source": [
    "X = data[['V1','V2','V3','V4','V5','V6','V7','V8','V9','V10','V11','V12','V13','V14','V15','V16','V17','V18','V19','V20','V21','V22','V23','V24','V25','V26','V27','V28','V29','V30','V31','V32','V33','V34','V35','V36','V37','V38','V39','V40','V41','V42','V43','V44','V45','V46','V47','V48','V49','V50','V51','V52','V53','V54','V55','V56','V57','V58','V59','V60']].values\n",
    "y = data[['Class']].values\n",
    "print(X.shape, y.shape)"
   ]
  },
  {
   "cell_type": "markdown",
   "id": "308ba7d9",
   "metadata": {},
   "source": [
    "<a id = \"1.0\"></a>\n",
    "<p style=\"font-size:15px;color:#16268a;font-family:'Comic Sans MS';text-align:left;border-radius:5px 5px;\">\n",
    "<strong>Normalizar Target</strong></p> "
   ]
  },
  {
   "cell_type": "code",
   "execution_count": 17,
   "id": "d7bf40ee",
   "metadata": {},
   "outputs": [],
   "source": [
    "encoder = LabelEncoder()\n",
    "encoder.fit(y)\n",
    "y = encoder.transform(y)"
   ]
  },
  {
   "cell_type": "markdown",
   "id": "9b99f183",
   "metadata": {},
   "source": [
    "<a id = \"1.0\"></a>\n",
    "<p style=\"font-size:15px;color:#16268a;font-family:'Comic Sans MS';text-align:left;border-radius:5px 5px;\">\n",
    "<strong>Datos de Entrenamiento y Test</strong></p> "
   ]
  },
  {
   "cell_type": "code",
   "execution_count": 20,
   "id": "c15cea10",
   "metadata": {},
   "outputs": [
    {
     "name": "stdout",
     "output_type": "stream",
     "text": [
      "(139, 60) (69, 60) (139,) (69,)\n"
     ]
    }
   ],
   "source": [
    "X_train, X_test, y_train, y_test = train_test_split(X, y, test_size=0.33, random_state=1)\n",
    "print(X_train.shape, X_test.shape, y_train.shape, y_test.shape)"
   ]
  },
  {
   "cell_type": "markdown",
   "id": "fd38983a",
   "metadata": {},
   "source": [
    "<a id = \"1.0\"></a>\n",
    "<p style=\"font-size:15px;color:#16268a;font-family:'Comic Sans MS';text-align:left;border-radius:5px 5px;\">\n",
    "<strong>Armado del modelo Auto Keras</strong></p> "
   ]
  },
  {
   "cell_type": "markdown",
   "id": "c042eed6",
   "metadata": {},
   "source": [
    "<a id = \"1.0\"></a>\n",
    "<p style=\"font-size:15px;color:#16268a;font-family:'Comic Sans MS';text-align:left;border-radius:5px 5px;\">\n",
    "<B><i>Max_trials</i></B>: Número máximo de modelos as evaluar<BR>\n",
    "<B><i>Objective</i></B>:Métrica a optimizar<br>\n",
    "</p> \n",
    "<a id = \"1.0\"></a>\n",
    "<p style=\"font-size:13px;color:#16268a;font-family:'Comic Sans MS';text-align:right;border-radius:5px 5px;\">\n",
    "<b>Referencia</b>:<br><a href=\"https://autokeras.com/structured_data_classifier/\" target=\\\"_blank\\\">StructuredDataClassifier</a><br>\n",
    "</p> "
   ]
  },
  {
   "cell_type": "code",
   "execution_count": 22,
   "id": "e2bdb919",
   "metadata": {},
   "outputs": [],
   "source": [
    "search = StructuredDataClassifier(max_trials=500, objective=\"val_accuracy\",)"
   ]
  },
  {
   "cell_type": "markdown",
   "id": "63ffbf54",
   "metadata": {},
   "source": [
    "<a id = \"1.0\"></a>\n",
    "<p style=\"font-size:15px;color:#16268a;font-family:'Comic Sans MS';text-align:left;border-radius:5px 5px;\">\n",
    "<strong>Entrenamiento del Modelo</strong></p> "
   ]
  },
  {
   "cell_type": "code",
   "execution_count": 23,
   "id": "704e94b0",
   "metadata": {
    "scrolled": true
   },
   "outputs": [
    {
     "name": "stdout",
     "output_type": "stream",
     "text": [
      "Trial 225 Complete [00h 00m 28s]\n",
      "val_accuracy: 1.0\n",
      "\n",
      "Best val_accuracy So Far: 1.0\n",
      "Total elapsed time: 01h 31m 55s\n",
      "Epoch 1/9\n",
      "5/5 [==============================] - 1s 6ms/step - loss: 0.8276 - accuracy: 0.4892\n",
      "Epoch 2/9\n",
      "5/5 [==============================] - 0s 5ms/step - loss: 0.7103 - accuracy: 0.5540\n",
      "Epoch 3/9\n",
      "5/5 [==============================] - 0s 5ms/step - loss: 0.6313 - accuracy: 0.6403\n",
      "Epoch 4/9\n",
      "5/5 [==============================] - 0s 5ms/step - loss: 0.5747 - accuracy: 0.7338\n",
      "Epoch 5/9\n",
      "5/5 [==============================] - 0s 5ms/step - loss: 0.5328 - accuracy: 0.7986\n",
      "Epoch 6/9\n",
      "5/5 [==============================] - 0s 4ms/step - loss: 0.4993 - accuracy: 0.8129\n",
      "Epoch 7/9\n",
      "5/5 [==============================] - 0s 5ms/step - loss: 0.4702 - accuracy: 0.8201\n",
      "Epoch 8/9\n",
      "5/5 [==============================] - 0s 6ms/step - loss: 0.4444 - accuracy: 0.8417\n",
      "Epoch 9/9\n",
      "5/5 [==============================] - 0s 6ms/step - loss: 0.4205 - accuracy: 0.8705\n"
     ]
    },
    {
     "name": "stderr",
     "output_type": "stream",
     "text": [
      "WARNING:absl:Found untraced functions such as _update_step_xla while saving (showing 1 of 1). These functions will not be directly callable after loading.\n"
     ]
    },
    {
     "name": "stdout",
     "output_type": "stream",
     "text": [
      "INFO:tensorflow:Assets written to: .\\structured_data_classifier\\best_model\\assets\n"
     ]
    },
    {
     "name": "stderr",
     "output_type": "stream",
     "text": [
      "INFO:tensorflow:Assets written to: .\\structured_data_classifier\\best_model\\assets\n"
     ]
    },
    {
     "data": {
      "text/plain": [
       "<keras.callbacks.History at 0x1e930ae7590>"
      ]
     },
     "execution_count": 23,
     "metadata": {},
     "output_type": "execute_result"
    }
   ],
   "source": [
    "search.fit(x=X_train, y=y_train, verbose=1)"
   ]
  },
  {
   "cell_type": "markdown",
   "id": "f5e25f69",
   "metadata": {},
   "source": [
    "<a id = \"1.0\"></a>\n",
    "<p style=\"font-size:15px;color:#16268a;font-family:'Comic Sans MS';text-align:left;border-radius:5px 5px;\">\n",
    "<strong>Evaluar el Modelo</strong></p> "
   ]
  },
  {
   "cell_type": "code",
   "execution_count": 24,
   "id": "8742c555",
   "metadata": {},
   "outputs": [
    {
     "name": "stdout",
     "output_type": "stream",
     "text": [
      "3/3 [==============================] - 0s 5ms/step - loss: 0.5131 - accuracy: 0.8116\n"
     ]
    }
   ],
   "source": [
    "loss, acc = search.evaluate(X_test, y_test, verbose=1)"
   ]
  },
  {
   "cell_type": "markdown",
   "id": "98ceab87",
   "metadata": {},
   "source": [
    "<a id = \"1.0\"></a>\n",
    "<p style=\"font-size:15px;color:#16268a;font-family:'Comic Sans MS';text-align:left;border-radius:5px 5px;\">\n",
    "<strong>Métricas</strong></p> "
   ]
  },
  {
   "cell_type": "code",
   "execution_count": 25,
   "id": "84ae8b09",
   "metadata": {},
   "outputs": [
    {
     "name": "stdout",
     "output_type": "stream",
     "text": [
      "Accuracy: 0.812\n"
     ]
    }
   ],
   "source": [
    "print('Accuracy: %.3f' % acc)"
   ]
  },
  {
   "cell_type": "markdown",
   "id": "00f68f36",
   "metadata": {},
   "source": [
    "<a id = \"1.0\"></a>\n",
    "<p style=\"font-size:15px;color:#16268a;font-family:'Comic Sans MS';text-align:left;border-radius:5px 5px;\">\n",
    "<strong>Predecir valor</strong></p> "
   ]
  },
  {
   "cell_type": "code",
   "execution_count": 26,
   "id": "fe6764e6",
   "metadata": {},
   "outputs": [],
   "source": [
    "row = [0.0200,0.0371,0.0428,0.0207,0.0954,0.0986,0.1539,0.1601,0.3109,0.2111,0.1609,0.1582,0.2238,0.0645,0.0660,0.2273,0.3100,0.2999,0.5078,0.4797,0.5783,0.5071,0.4328,0.5550,0.6711,0.6415,0.7104,0.8080,0.6791,0.3857,0.1307,0.2604,0.5121,0.7547,0.8537,0.8507,0.6692,0.6097,0.4943,0.2744,0.0510,0.2834,0.2825,0.4256,0.2641,0.1386,0.1051,0.1343,0.0383,0.0324,0.0232,0.0027,0.0065,0.0159,0.0072,0.0167,0.0180,0.0084,0.0090,0.0032]\n",
    "X_new = asarray([row]).astype('float32')"
   ]
  },
  {
   "cell_type": "code",
   "execution_count": 27,
   "id": "4d31fba0",
   "metadata": {},
   "outputs": [
    {
     "name": "stdout",
     "output_type": "stream",
     "text": [
      "1/1 [==============================] - 0s 271ms/step\n",
      "1/1 [==============================] - 0s 1ms/step\n",
      "Predicted: 1.000\n"
     ]
    }
   ],
   "source": [
    "yhat = search.predict(X_new)\n",
    "print('Predicted: %.3f' % yhat[0])"
   ]
  },
  {
   "cell_type": "markdown",
   "id": "a17f546d",
   "metadata": {},
   "source": [
    "<a id = \"1.0\"></a>\n",
    "<p style=\"font-size:15px;color:#16268a;font-family:'Comic Sans MS';text-align:left;border-radius:5px 5px;\">\n",
    "<strong>Exportar Modelo</strong></p> "
   ]
  },
  {
   "cell_type": "code",
   "execution_count": 28,
   "id": "307cf9a3",
   "metadata": {},
   "outputs": [],
   "source": [
    "model = search.export_model()"
   ]
  },
  {
   "cell_type": "markdown",
   "id": "47eaaac8",
   "metadata": {},
   "source": [
    "<a id = \"1.0\"></a>\n",
    "<p style=\"font-size:15px;color:#16268a;font-family:'Comic Sans MS';text-align:left;border-radius:5px 5px;\">\n",
    "<strong>Ver Modelo</strong></p> "
   ]
  },
  {
   "cell_type": "code",
   "execution_count": 29,
   "id": "a950dd84",
   "metadata": {},
   "outputs": [
    {
     "name": "stdout",
     "output_type": "stream",
     "text": [
      "Model: \"model\"\n",
      "_________________________________________________________________\n",
      " Layer (type)                Output Shape              Param #   \n",
      "=================================================================\n",
      " input_1 (InputLayer)        [(None, 60)]              0         \n",
      "                                                                 \n",
      " multi_category_encoding (Mu  (None, 60)               0         \n",
      " ltiCategoryEncoding)                                            \n",
      "                                                                 \n",
      " normalization (Normalizatio  (None, 60)               121       \n",
      " n)                                                              \n",
      "                                                                 \n",
      " dense (Dense)               (None, 32)                1952      \n",
      "                                                                 \n",
      " re_lu (ReLU)                (None, 32)                0         \n",
      "                                                                 \n",
      " dense_1 (Dense)             (None, 32)                1056      \n",
      "                                                                 \n",
      " re_lu_1 (ReLU)              (None, 32)                0         \n",
      "                                                                 \n",
      " dense_2 (Dense)             (None, 1)                 33        \n",
      "                                                                 \n",
      " classification_head_1 (Acti  (None, 1)                0         \n",
      " vation)                                                         \n",
      "                                                                 \n",
      "=================================================================\n",
      "Total params: 3,162\n",
      "Trainable params: 3,041\n",
      "Non-trainable params: 121\n",
      "_________________________________________________________________\n"
     ]
    }
   ],
   "source": [
    "model.summary()"
   ]
  },
  {
   "cell_type": "markdown",
   "id": "fc5b4ef0",
   "metadata": {},
   "source": [
    "<a id = \"1.0\"></a>\n",
    "<p style=\"font-size:15px;color:#16268a;font-family:'Comic Sans MS';text-align:left;border-radius:5px 5px;\">\n",
    "<strong>Salvar Modelo</strong></p> "
   ]
  },
  {
   "cell_type": "code",
   "execution_count": 30,
   "id": "ed13b33d",
   "metadata": {},
   "outputs": [],
   "source": [
    "model.save('model_sonar.h5')"
   ]
  },
  {
   "cell_type": "markdown",
   "id": "b38da18a",
   "metadata": {},
   "source": [
    "<a id = \"1.0\"></a>\n",
    "<p style=\"font-size:20px;color:#16268a;font-family:'Comic Sans MS';text-align:center;border-radius:5px;\">\n",
    "<strong>_____________________________</strong></p>"
   ]
  },
  {
   "cell_type": "markdown",
   "id": "aafe1c3f",
   "metadata": {},
   "source": [
    "<a id = \"1.0\"></a>\n",
    "<p style=\"font-size:25px;color:#16268a;font-family:'Comic Sans MS';text-align:center;border-radius:5px;\">\n",
    "<strong>_____________________________</strong></p>"
   ]
  }
 ],
 "metadata": {
  "kernelspec": {
   "display_name": "Pycaret",
   "language": "python",
   "name": "pycaret"
  },
  "language_info": {
   "codemirror_mode": {
    "name": "ipython",
    "version": 3
   },
   "file_extension": ".py",
   "mimetype": "text/x-python",
   "name": "python",
   "nbconvert_exporter": "python",
   "pygments_lexer": "ipython3",
   "version": "3.11.10"
  }
 },
 "nbformat": 4,
 "nbformat_minor": 5
}
