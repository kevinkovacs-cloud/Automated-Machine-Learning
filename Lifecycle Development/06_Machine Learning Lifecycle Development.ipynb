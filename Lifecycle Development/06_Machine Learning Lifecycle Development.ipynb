{
 "cells": [
  {
   "cell_type": "markdown",
   "metadata": {},
   "source": [
    "<a id = \"1.0\"></a>\n",
    "<p style=\"font-size:15px;color:#34656d;font-family:'Comic Sans MS';text-align:right;border-radius:5px 5px;\">\n",
    "    <i>Aprender una técnica no es un fin en si mismo, simplemente indica por donde hay que empezar</i><br><b>Proverbio Japonés</b></p> "
   ]
  },
  {
   "cell_type": "markdown",
   "metadata": {},
   "source": [
    "<a id = \"1.0\"></a>\n",
    "<p style=\"font-size:15px;color:#34656d;font-family:'Comic Sans MS';text-align:right;border-radius:5px 5px;\">\n",
    "<i>Material curado y organizado por el Prof. Dr. Hernán D. Merlino</i><br> \n",
    "<i>Machine Learning Lifecycle Development Versión 1.0 - 2022 Q3</i></p> \n",
    "<a id = \"1.0\"></a>\n",
    "<p style=\"font-size:15px;color:#34656d;font-family:'Comic Sans MS';text-align:center;border-radius:5px 5px;\">\n",
    "<strong>_____________________________________________________________</strong></p> "
   ]
  },
  {
   "cell_type": "markdown",
   "metadata": {},
   "source": [
    "<a id = \"1.0\"></a>\n",
    "<p style=\"font-size:25px;color:#34656d;font-family:'Comic Sans MS';text-align:center;border-radius:5px 5px;\">\n",
    "<strong>Machine Learning Lifecycle Development</strong></p>"
   ]
  },
  {
   "cell_type": "markdown",
   "metadata": {},
   "source": [
    "<p style=\"font-size:14px;color:#34656d;font-family:'Comic Sans MS';text-align:right;border-radius:5px 5px;\">    \n",
    "<i>Fuente del material adaptado para el curso:&nbsp;&nbsp;<a href=\"https://moez-62905.medium.com/simplify-mlops-with-pycaret-mlflow-and-dagshub-366c768f0dac\" target=\\\"_blank\\\">Simplify MLOps</a></i></p> "
   ]
  },
  {
   "cell_type": "markdown",
   "metadata": {},
   "source": [
    "<a id = \"1.0\"></a>\n",
    "<p style=\"font-size:15px;color:#34656d;font-family:'Comic Sans MS';text-align:left;border-radius:5px 5px;\">\n",
    "El proceso de desarrollo de modelos de Machine Learning implica entre otras cosas mantener la trazabilidad de todas las pruebas que se realizan para obtener el modelo final, el cual sera puesto en producción<BR>\n",
    "Este proceso se lo conoce como <b><i>\"Experiment Tracking\"</i></b> donde para cada experimento se guardan:\n",
    "<b>\n",
    "<ul style=\"font-size:15px;color:#34656d;font-family:'Comic Sans MS';text-align:left;border-radius:5px 5px;\">\n",
    "<li><i>Modelos</i></li>\n",
    "<li><i>Parametros</i></li>\n",
    "<li><i>Pipelines</i></li> \n",
    "<li><i>Métricas</i></li>    \n",
    "<li><i>Pruebas</i></li>\n",
    "<li><i>Configuraciones</i></li>  \n",
    "<li><i>Etc</i></li>    \n",
    "</ul>  \n",
    "</b>\n",
    "</p>\n",
    "<p style=\"font-size:15px;color:#34656d;font-family:'Comic Sans MS';text-align:left;border-radius:5px 5px;\">\n",
    "En resumen, por cada iteración se debe guardar todo lo necesario para poder repetir el experimento.  \n",
    "</p>    \n",
    "<a id = \"1.0\"></a>\n",
    "<p style=\"font-size:25px;color:#34656d;font-family:'Comic Sans MS';text-align:center;border-radius:5px 5px;\"></i>\n",
    "<strong>__________________________________________</strong></p> "
   ]
  },
  {
   "cell_type": "markdown",
   "metadata": {},
   "source": [
    "<a id = \"1.0\"></a>\n",
    "<p style=\"font-size:15px;color:#34656d;font-family:'Comic Sans MS';text-align:left;border-radius:5px 5px;\">\n",
    "<strong><u>Importancia</u></strong>:\n",
    "<ul style=\"font-size:15px;color:#34656d;font-family:'Comic Sans MS';text-align:left;border-radius:5px 5px;\">\n",
    "<li><i>Alta</i></li>\n",
    "</ul></p>\n",
    "\n",
    "<p style=\"font-size:15px;color:#34656d;font-family:'Comic Sans MS';text-align:left;border-radius:5px 5px;\">\n",
    "<strong><u>Otros Nombre Utilizados como Sinonimos:</u></strong><br> \n",
    "<ul style=\"font-size:15px;color:#34656d;font-family:'Comic Sans MS';text-align:left;border-radius:5px 5px;\">\n",
    "<li><i>Trazabilidad de modelo</i></li>\n",
    "</ul></p>\n",
    "    \n",
    "<p style=\"font-size:15px;color:#34656d;font-family:'Comic Sans MS';text-align:left;border-radius:5px 5px;\">\n",
    "<strong><u>Secuencia en el proceso de Ciencia de Datos:</u></strong><br> \n",
    "<ul style=\"font-size:15px;color:#34656d;font-family:'Comic Sans MS';text-align:left;border-radius:5px 5px;\">\n",
    "<li>Metaproceso</i></b></li>\n",
    "</ul></p>\n",
    "<p style=\"font-size:15px;color:#34656d;font-family:'Comic Sans MS';text-align:left;border-radius:5px 5px;\">\n",
    "<strong><u>Comentario:</u></strong><br> \n",
    "Este proceso abarca todos los procesos referentes a la ciencia de datos, se lo debe enteneder como el coordinador de las tareas.</p><BR>\n",
    "<p style=\"font-size:15px;color:#34656d;font-family:'Comic Sans MS';text-align:left;border-radius:5px 5px;\">\n",
    "<strong><u>Referencia Bibliográfica:</u></strong><br> \n",
    "<a href=\"https://mlflow.org/\" target=\\\"_blank\\\">MLFLOW&nbsp;-&nbsp; Platform for the Machine Learning Lifecycle</a><br>\n",
    "<a href=\"https://dagshub.com\" target=\\\"_blank\\\">DagsHub&nbsp;-&nbsp;Data Science Collaboration</a><br>\n",
    "<a href=\"https://github.com/\" target=\\\"_blank\\\">Github&nbsp;&nbsp;&nbsp;&nbsp;-&nbsp;Source Control Version</a><br>    \n",
    "<a href=\"https://dvc.org/\" target=\\\"_blank\\\">DVC&nbsp;&nbsp;&nbsp;&nbsp;&nbsp;&nbsp;&nbsp;&nbsp;-&nbsp;Version Control System for Machine Learning</a><br> \n",
    "<a href=\"https://www.jenkins.io/\" target=\\\"_blank\\\">Jenkins&nbsp;&nbsp;&nbsp;-&nbsp;Continuous Integration and Continuous Delivery</a><br>     \n",
    "</p>    "
   ]
  },
  {
   "cell_type": "markdown",
   "metadata": {},
   "source": [
    "<a id = \"1.0\"></a>\n",
    "<p style=\"font-size:20px;color:#34656d;font-family:'Comic Sans MS';text-align:center;border-radius:5px 5px;\">\n",
    "<strong>__________________________________________</strong></p>"
   ]
  },
  {
   "cell_type": "markdown",
   "metadata": {},
   "source": [
    "<a id = \"1.0\"></a>\n",
    "<p style=\"font-size:15px;color:#34656d;font-family:'Comic Sans MS';text-align:left;border-radius:5px 5px;\">\n",
    "<strong>Bibliotecas utilizadas en el notebook</strong><br> \n",
    "<ol style=\"font-size:15px;color:#34656d;font-family:'Comic Sans MS';text-align:left;border-radius:5px 5px;\">\n",
    "<li>pycaret</li> \n",
    "<li>sklearn</li>    \n",
    "<li>numpy</li> \n",
    "<li>pandas</li>\n",
    "<li>matplotlib</li>    \n",
    "</ol>\n",
    "</p> \n",
    "<p style=\"font-size:25px;color:#34656d;font-family:'Comic Sans MS';text-align:center;border-radius:5px 5px;\">\n",
    "<strong>_____________________________________________________________</strong></p> "
   ]
  },
  {
   "cell_type": "markdown",
   "metadata": {},
   "source": [
    "<a id = \"1.0\"></a>\n",
    "<p style=\"font-size:15px;color:#34656d;font-family:'Comic Sans MS';text-align:left;border-radius:5px 5px;\">\n",
    "<strong>Versión de Python y Jupyter</strong></p> "
   ]
  },
  {
   "cell_type": "code",
   "execution_count": 1,
   "metadata": {},
   "outputs": [],
   "source": [
    "import gc\n",
    "iInitial = len(gc.get_objects())"
   ]
  },
  {
   "cell_type": "code",
   "execution_count": 2,
   "metadata": {},
   "outputs": [
    {
     "name": "stdout",
     "output_type": "stream",
     "text": [
      "Pyton version: 3.9.12\n"
     ]
    }
   ],
   "source": [
    "from platform import python_version\n",
    "\n",
    "# En produccion sacar, solo se incluye a modo de información\n",
    "print('Pyton version: {}'.format(python_version()))"
   ]
  },
  {
   "cell_type": "code",
   "execution_count": 3,
   "metadata": {},
   "outputs": [
    {
     "name": "stdout",
     "output_type": "stream",
     "text": [
      "Selected Jupyter core packages...\n",
      "IPython          : 8.3.0\n",
      "ipykernel        : 6.16.0\n",
      "ipywidgets       : 7.6.5\n",
      "jupyter_client   : 7.2.2\n",
      "jupyter_core     : 4.10.0\n",
      "jupyter_server   : not installed\n",
      "jupyterlab       : not installed\n",
      "nbclient         : 0.5.13\n",
      "nbconvert        : 6.4.4\n",
      "nbformat         : 5.3.0\n",
      "notebook         : 6.4.11\n",
      "qtconsole        : 5.3.0\n",
      "traitlets        : 5.1.1\n"
     ]
    }
   ],
   "source": [
    "# En produccion sacar, solo se incluye a modo de información\n",
    "!jupyter --version"
   ]
  },
  {
   "cell_type": "markdown",
   "metadata": {},
   "source": [
    "<a id = \"1.0\"></a>\n",
    "<p style=\"font-size:15px;color:#34656d;font-family:'Comic Sans MS';text-align:left;border-radius:5px 5px;\">\n",
    "<strong>Cargar librerías Warnings, Numpy y Pandas</strong></p> "
   ]
  },
  {
   "cell_type": "code",
   "execution_count": 4,
   "metadata": {},
   "outputs": [],
   "source": [
    "import warnings\n",
    "warnings.filterwarnings(\"ignore\")"
   ]
  },
  {
   "cell_type": "code",
   "execution_count": 5,
   "metadata": {},
   "outputs": [
    {
     "name": "stdout",
     "output_type": "stream",
     "text": [
      "Numpy version: 1.22.3\n"
     ]
    }
   ],
   "source": [
    "import numpy as np\n",
    "np.set_printoptions(suppress=True)\n",
    "\n",
    "# En produccion eliminar, se incluye por información\n",
    "print(f'Numpy version: {np.__version__}')"
   ]
  },
  {
   "cell_type": "code",
   "execution_count": 6,
   "metadata": {},
   "outputs": [
    {
     "name": "stdout",
     "output_type": "stream",
     "text": [
      "Pandas Version: 1.4.2\n"
     ]
    }
   ],
   "source": [
    "import pandas as pd\n",
    "#Configuración de parametros de Pandas para mejor visualización\n",
    "pd.set_option('display.max_columns', None)\n",
    "pd.set_option('display.max_rows', None)\n",
    "pd.set_option('display.max_colwidth', None)\n",
    "pd.set_option('display.precision', 3)\n",
    "pd.set_option('plotting.backend', 'matplotlib') \n",
    "pd.options.mode.chained_assignment = None\n",
    "\n",
    "# En produccion eliminar, se incluye por informacion\n",
    "print(f'Pandas Version: {pd.__version__}') "
   ]
  },
  {
   "cell_type": "code",
   "execution_count": 7,
   "metadata": {},
   "outputs": [],
   "source": [
    "from sklearn import set_config\n",
    "set_config(display = 'diagram')"
   ]
  },
  {
   "cell_type": "code",
   "execution_count": 8,
   "metadata": {},
   "outputs": [
    {
     "name": "stdout",
     "output_type": "stream",
     "text": [
      "Pandas Version: 3.0.0.rc4\n"
     ]
    }
   ],
   "source": [
    "import pycaret\n",
    "from pycaret.classification import *\n",
    "\n",
    "# En produccion eliminar, se incluye por informacion\n",
    "print(f'Pycaret Version: {pycaret.__version__}') "
   ]
  },
  {
   "cell_type": "code",
   "execution_count": 9,
   "metadata": {},
   "outputs": [
    {
     "name": "stdout",
     "output_type": "stream",
     "text": [
      "Matplotlib version: 3.6.0\n"
     ]
    }
   ],
   "source": [
    "# En produccion eliminar, se incluye por informacion\n",
    "import matplotlib\n",
    "print(f'Matplotlib version: {matplotlib.__version__}')\n",
    "\n",
    "import matplotlib.pyplot as plt\n",
    "%matplotlib inline\n",
    "plt.rcParams[\"figure.figsize\"] = (15,7)"
   ]
  },
  {
   "cell_type": "code",
   "execution_count": 10,
   "metadata": {},
   "outputs": [],
   "source": [
    "iTotal = len(gc.get_objects())\n",
    "del python_version\n",
    "del pycaret\n",
    "del matplotlib\n",
    "gc.collect()\n",
    "iFinal = len(gc.get_objects())"
   ]
  },
  {
   "cell_type": "code",
   "execution_count": 11,
   "metadata": {},
   "outputs": [
    {
     "name": "stdout",
     "output_type": "stream",
     "text": [
      "Garbage Collector Objects:\n",
      "Start: 78566\n",
      "Total: 330172\n",
      "End  : 328798\n"
     ]
    }
   ],
   "source": [
    "print('Garbage Collector Objects:')\n",
    "print(f'Start: {iInitial}')\n",
    "print(f'Total: {iTotal}')\n",
    "print(f'End  : {iFinal}')"
   ]
  },
  {
   "cell_type": "markdown",
   "metadata": {},
   "source": [
    "<a id = \"1.0\"></a>\n",
    "<p style=\"font-size:15px;color:#34656d;font-family:'Comic Sans MS';text-align:left;border-radius:5px 5px;\">\n",
    "<strong>Lectura mediante Pandas del archivo de datos</strong></p> "
   ]
  },
  {
   "cell_type": "code",
   "execution_count": 12,
   "metadata": {},
   "outputs": [],
   "source": [
    "data = pd.read_csv('./data/Telco-Customer-Churn.csv')"
   ]
  },
  {
   "cell_type": "code",
   "execution_count": 13,
   "metadata": {},
   "outputs": [
    {
     "data": {
      "text/html": [
       "<div>\n",
       "<style scoped>\n",
       "    .dataframe tbody tr th:only-of-type {\n",
       "        vertical-align: middle;\n",
       "    }\n",
       "\n",
       "    .dataframe tbody tr th {\n",
       "        vertical-align: top;\n",
       "    }\n",
       "\n",
       "    .dataframe thead th {\n",
       "        text-align: right;\n",
       "    }\n",
       "</style>\n",
       "<table border=\"1\" class=\"dataframe\">\n",
       "  <thead>\n",
       "    <tr style=\"text-align: right;\">\n",
       "      <th></th>\n",
       "      <th>customerId</th>\n",
       "      <th>gender</th>\n",
       "      <th>SeniorCitizen</th>\n",
       "      <th>Partner</th>\n",
       "      <th>Dependents</th>\n",
       "      <th>tenure</th>\n",
       "      <th>PhoneService</th>\n",
       "      <th>MultipleLines</th>\n",
       "      <th>InternetService</th>\n",
       "      <th>OnlineSecurity</th>\n",
       "      <th>OnlineBackup</th>\n",
       "      <th>DeviceProtection</th>\n",
       "      <th>TechSupport</th>\n",
       "      <th>StreamingTV</th>\n",
       "      <th>StreamingMovies</th>\n",
       "      <th>Contract</th>\n",
       "      <th>PaperlessBilling</th>\n",
       "      <th>PaymentMethod</th>\n",
       "      <th>MonthlyCharges</th>\n",
       "      <th>TotalCharges</th>\n",
       "      <th>Churn</th>\n",
       "    </tr>\n",
       "  </thead>\n",
       "  <tbody>\n",
       "    <tr>\n",
       "      <th>0</th>\n",
       "      <td>7590-VHVEG</td>\n",
       "      <td>Female</td>\n",
       "      <td>0</td>\n",
       "      <td>Yes</td>\n",
       "      <td>No</td>\n",
       "      <td>1</td>\n",
       "      <td>No</td>\n",
       "      <td>No phone service</td>\n",
       "      <td>DSL</td>\n",
       "      <td>No</td>\n",
       "      <td>Yes</td>\n",
       "      <td>No</td>\n",
       "      <td>No</td>\n",
       "      <td>No</td>\n",
       "      <td>No</td>\n",
       "      <td>Month-to-month</td>\n",
       "      <td>Yes</td>\n",
       "      <td>Electronic check</td>\n",
       "      <td>29.85</td>\n",
       "      <td>29.85</td>\n",
       "      <td>No</td>\n",
       "    </tr>\n",
       "    <tr>\n",
       "      <th>1</th>\n",
       "      <td>5575-GNVDE</td>\n",
       "      <td>Male</td>\n",
       "      <td>0</td>\n",
       "      <td>No</td>\n",
       "      <td>No</td>\n",
       "      <td>34</td>\n",
       "      <td>Yes</td>\n",
       "      <td>No</td>\n",
       "      <td>DSL</td>\n",
       "      <td>Yes</td>\n",
       "      <td>No</td>\n",
       "      <td>Yes</td>\n",
       "      <td>No</td>\n",
       "      <td>No</td>\n",
       "      <td>No</td>\n",
       "      <td>One year</td>\n",
       "      <td>No</td>\n",
       "      <td>Mailed check</td>\n",
       "      <td>56.95</td>\n",
       "      <td>1889.5</td>\n",
       "      <td>No</td>\n",
       "    </tr>\n",
       "    <tr>\n",
       "      <th>2</th>\n",
       "      <td>3668-QPYBK</td>\n",
       "      <td>Male</td>\n",
       "      <td>0</td>\n",
       "      <td>No</td>\n",
       "      <td>No</td>\n",
       "      <td>2</td>\n",
       "      <td>Yes</td>\n",
       "      <td>No</td>\n",
       "      <td>DSL</td>\n",
       "      <td>Yes</td>\n",
       "      <td>Yes</td>\n",
       "      <td>No</td>\n",
       "      <td>No</td>\n",
       "      <td>No</td>\n",
       "      <td>No</td>\n",
       "      <td>Month-to-month</td>\n",
       "      <td>Yes</td>\n",
       "      <td>Mailed check</td>\n",
       "      <td>53.85</td>\n",
       "      <td>108.15</td>\n",
       "      <td>Yes</td>\n",
       "    </tr>\n",
       "    <tr>\n",
       "      <th>3</th>\n",
       "      <td>7795-CFOCW</td>\n",
       "      <td>Male</td>\n",
       "      <td>0</td>\n",
       "      <td>No</td>\n",
       "      <td>No</td>\n",
       "      <td>45</td>\n",
       "      <td>No</td>\n",
       "      <td>No phone service</td>\n",
       "      <td>DSL</td>\n",
       "      <td>Yes</td>\n",
       "      <td>No</td>\n",
       "      <td>Yes</td>\n",
       "      <td>Yes</td>\n",
       "      <td>No</td>\n",
       "      <td>No</td>\n",
       "      <td>One year</td>\n",
       "      <td>No</td>\n",
       "      <td>Bank transfer (automatic)</td>\n",
       "      <td>42.30</td>\n",
       "      <td>1840.75</td>\n",
       "      <td>No</td>\n",
       "    </tr>\n",
       "    <tr>\n",
       "      <th>4</th>\n",
       "      <td>9237-HQITU</td>\n",
       "      <td>Female</td>\n",
       "      <td>0</td>\n",
       "      <td>No</td>\n",
       "      <td>No</td>\n",
       "      <td>2</td>\n",
       "      <td>Yes</td>\n",
       "      <td>No</td>\n",
       "      <td>Fiber optic</td>\n",
       "      <td>No</td>\n",
       "      <td>No</td>\n",
       "      <td>No</td>\n",
       "      <td>No</td>\n",
       "      <td>No</td>\n",
       "      <td>No</td>\n",
       "      <td>Month-to-month</td>\n",
       "      <td>Yes</td>\n",
       "      <td>Electronic check</td>\n",
       "      <td>70.70</td>\n",
       "      <td>151.65</td>\n",
       "      <td>Yes</td>\n",
       "    </tr>\n",
       "  </tbody>\n",
       "</table>\n",
       "</div>"
      ],
      "text/plain": [
       "   customerId  gender  SeniorCitizen Partner Dependents  tenure PhoneService  \\\n",
       "0  7590-VHVEG  Female              0     Yes         No       1           No   \n",
       "1  5575-GNVDE    Male              0      No         No      34          Yes   \n",
       "2  3668-QPYBK    Male              0      No         No       2          Yes   \n",
       "3  7795-CFOCW    Male              0      No         No      45           No   \n",
       "4  9237-HQITU  Female              0      No         No       2          Yes   \n",
       "\n",
       "      MultipleLines InternetService OnlineSecurity OnlineBackup  \\\n",
       "0  No phone service             DSL             No          Yes   \n",
       "1                No             DSL            Yes           No   \n",
       "2                No             DSL            Yes          Yes   \n",
       "3  No phone service             DSL            Yes           No   \n",
       "4                No     Fiber optic             No           No   \n",
       "\n",
       "  DeviceProtection TechSupport StreamingTV StreamingMovies        Contract  \\\n",
       "0               No          No          No              No  Month-to-month   \n",
       "1              Yes          No          No              No        One year   \n",
       "2               No          No          No              No  Month-to-month   \n",
       "3              Yes         Yes          No              No        One year   \n",
       "4               No          No          No              No  Month-to-month   \n",
       "\n",
       "  PaperlessBilling              PaymentMethod  MonthlyCharges TotalCharges  \\\n",
       "0              Yes           Electronic check           29.85        29.85   \n",
       "1               No               Mailed check           56.95       1889.5   \n",
       "2              Yes               Mailed check           53.85       108.15   \n",
       "3               No  Bank transfer (automatic)           42.30      1840.75   \n",
       "4              Yes           Electronic check           70.70       151.65   \n",
       "\n",
       "  Churn  \n",
       "0    No  \n",
       "1    No  \n",
       "2   Yes  \n",
       "3    No  \n",
       "4   Yes  "
      ]
     },
     "execution_count": 13,
     "metadata": {},
     "output_type": "execute_result"
    }
   ],
   "source": [
    "data.head()"
   ]
  },
  {
   "cell_type": "code",
   "execution_count": 14,
   "metadata": {},
   "outputs": [
    {
     "data": {
      "text/plain": [
       "customerId           object\n",
       "gender               object\n",
       "SeniorCitizen         int64\n",
       "Partner              object\n",
       "Dependents           object\n",
       "tenure                int64\n",
       "PhoneService         object\n",
       "MultipleLines        object\n",
       "InternetService      object\n",
       "OnlineSecurity       object\n",
       "OnlineBackup         object\n",
       "DeviceProtection     object\n",
       "TechSupport          object\n",
       "StreamingTV          object\n",
       "StreamingMovies      object\n",
       "Contract             object\n",
       "PaperlessBilling     object\n",
       "PaymentMethod        object\n",
       "MonthlyCharges      float64\n",
       "TotalCharges         object\n",
       "Churn                object\n",
       "dtype: object"
      ]
     },
     "execution_count": 14,
     "metadata": {},
     "output_type": "execute_result"
    }
   ],
   "source": [
    "data.dtypes"
   ]
  },
  {
   "cell_type": "code",
   "execution_count": 15,
   "metadata": {},
   "outputs": [
    {
     "data": {
      "text/plain": [
       "customerId          0\n",
       "gender              0\n",
       "SeniorCitizen       0\n",
       "Partner             0\n",
       "Dependents          0\n",
       "tenure              0\n",
       "PhoneService        0\n",
       "MultipleLines       0\n",
       "InternetService     0\n",
       "OnlineSecurity      0\n",
       "OnlineBackup        0\n",
       "DeviceProtection    0\n",
       "TechSupport         0\n",
       "StreamingTV         0\n",
       "StreamingMovies     0\n",
       "Contract            0\n",
       "PaperlessBilling    0\n",
       "PaymentMethod       0\n",
       "MonthlyCharges      0\n",
       "TotalCharges        0\n",
       "Churn               0\n",
       "dtype: int64"
      ]
     },
     "execution_count": 15,
     "metadata": {},
     "output_type": "execute_result"
    }
   ],
   "source": [
    "data.isna().sum()"
   ]
  },
  {
   "cell_type": "code",
   "execution_count": 16,
   "metadata": {},
   "outputs": [],
   "source": [
    "data['TotalCharges'] = data['TotalCharges'].replace(' ', np.nan).astype('float64')"
   ]
  },
  {
   "cell_type": "code",
   "execution_count": 17,
   "metadata": {
    "scrolled": false
   },
   "outputs": [
    {
     "data": {
      "text/plain": [
       "customerId           0\n",
       "gender               0\n",
       "SeniorCitizen        0\n",
       "Partner              0\n",
       "Dependents           0\n",
       "tenure               0\n",
       "PhoneService         0\n",
       "MultipleLines        0\n",
       "InternetService      0\n",
       "OnlineSecurity       0\n",
       "OnlineBackup         0\n",
       "DeviceProtection     0\n",
       "TechSupport          0\n",
       "StreamingTV          0\n",
       "StreamingMovies      0\n",
       "Contract             0\n",
       "PaperlessBilling     0\n",
       "PaymentMethod        0\n",
       "MonthlyCharges       0\n",
       "TotalCharges        11\n",
       "Churn                0\n",
       "dtype: int64"
      ]
     },
     "execution_count": 17,
     "metadata": {},
     "output_type": "execute_result"
    }
   ],
   "source": [
    "data.isna().sum()"
   ]
  },
  {
   "cell_type": "code",
   "execution_count": 18,
   "metadata": {
    "scrolled": false
   },
   "outputs": [
    {
     "data": {
      "image/png": "[encoded data removed]",
      "text/plain": [
       "<Figure size 1080x504 with 1 Axes>"
      ]
     },
     "metadata": {
      "needs_background": "light"
     },
     "output_type": "display_data"
    }
   ],
   "source": [
    "data['Churn'].value_counts(normalize = True).plot.bar();"
   ]
  },
  {
   "cell_type": "markdown",
   "metadata": {},
   "source": [
    "<a id = \"1.0\"></a>\n",
    "<p style=\"font-size:15px;color:#34656d;font-family:'Comic Sans MS';text-align:left;border-radius:5px 5px;\">\n",
    "<strong>Configuración de Pycaret</strong></p> \n",
    "<p style=\"font-size:15px;color:#34656d;font-family:'Comic Sans MS';text-align:left;border-radius:5px 5px;\">\n",
    "<a href=\"https://pycaret.gitbook.io/docs/get-started/functions\" target=\\\"_blank\\\">Referencia para configuración</a><br>\n",
    "</p> "
   ]
  },
  {
   "cell_type": "code",
   "execution_count": 19,
   "metadata": {},
   "outputs": [
    {
     "data": {
      "text/html": [
       "<style type=\"text/css\">\n",
       "#T_ca8c3_row13_col1 {\n",
       "  background-color: lightgreen;\n",
       "}\n",
       "</style>\n",
       "<table id=\"T_ca8c3\">\n",
       "  <thead>\n",
       "    <tr>\n",
       "      <th class=\"blank level0\" >&nbsp;</th>\n",
       "      <th id=\"T_ca8c3_level0_col0\" class=\"col_heading level0 col0\" >Description</th>\n",
       "      <th id=\"T_ca8c3_level0_col1\" class=\"col_heading level0 col1\" >Value</th>\n",
       "    </tr>\n",
       "  </thead>\n",
       "  <tbody>\n",
       "    <tr>\n",
       "      <th id=\"T_ca8c3_level0_row0\" class=\"row_heading level0 row0\" >0</th>\n",
       "      <td id=\"T_ca8c3_row0_col0\" class=\"data row0 col0\" >Session id</td>\n",
       "      <td id=\"T_ca8c3_row0_col1\" class=\"data row0 col1\" >1001</td>\n",
       "    </tr>\n",
       "    <tr>\n",
       "      <th id=\"T_ca8c3_level0_row1\" class=\"row_heading level0 row1\" >1</th>\n",
       "      <td id=\"T_ca8c3_row1_col0\" class=\"data row1 col0\" >Target</td>\n",
       "      <td id=\"T_ca8c3_row1_col1\" class=\"data row1 col1\" >Churn</td>\n",
       "    </tr>\n",
       "    <tr>\n",
       "      <th id=\"T_ca8c3_level0_row2\" class=\"row_heading level0 row2\" >2</th>\n",
       "      <td id=\"T_ca8c3_row2_col0\" class=\"data row2 col0\" >Target type</td>\n",
       "      <td id=\"T_ca8c3_row2_col1\" class=\"data row2 col1\" >Binary</td>\n",
       "    </tr>\n",
       "    <tr>\n",
       "      <th id=\"T_ca8c3_level0_row3\" class=\"row_heading level0 row3\" >3</th>\n",
       "      <td id=\"T_ca8c3_row3_col0\" class=\"data row3 col0\" >Target mapping</td>\n",
       "      <td id=\"T_ca8c3_row3_col1\" class=\"data row3 col1\" >No: 0, Yes: 1</td>\n",
       "    </tr>\n",
       "    <tr>\n",
       "      <th id=\"T_ca8c3_level0_row4\" class=\"row_heading level0 row4\" >4</th>\n",
       "      <td id=\"T_ca8c3_row4_col0\" class=\"data row4 col0\" >Original data shape</td>\n",
       "      <td id=\"T_ca8c3_row4_col1\" class=\"data row4 col1\" >(7043, 20)</td>\n",
       "    </tr>\n",
       "    <tr>\n",
       "      <th id=\"T_ca8c3_level0_row5\" class=\"row_heading level0 row5\" >5</th>\n",
       "      <td id=\"T_ca8c3_row5_col0\" class=\"data row5 col0\" >Transformed data shape</td>\n",
       "      <td id=\"T_ca8c3_row5_col1\" class=\"data row5 col1\" >(7043, 41)</td>\n",
       "    </tr>\n",
       "    <tr>\n",
       "      <th id=\"T_ca8c3_level0_row6\" class=\"row_heading level0 row6\" >6</th>\n",
       "      <td id=\"T_ca8c3_row6_col0\" class=\"data row6 col0\" >Transformed train set shape</td>\n",
       "      <td id=\"T_ca8c3_row6_col1\" class=\"data row6 col1\" >(4930, 41)</td>\n",
       "    </tr>\n",
       "    <tr>\n",
       "      <th id=\"T_ca8c3_level0_row7\" class=\"row_heading level0 row7\" >7</th>\n",
       "      <td id=\"T_ca8c3_row7_col0\" class=\"data row7 col0\" >Transformed test set shape</td>\n",
       "      <td id=\"T_ca8c3_row7_col1\" class=\"data row7 col1\" >(2113, 41)</td>\n",
       "    </tr>\n",
       "    <tr>\n",
       "      <th id=\"T_ca8c3_level0_row8\" class=\"row_heading level0 row8\" >8</th>\n",
       "      <td id=\"T_ca8c3_row8_col0\" class=\"data row8 col0\" >Ignore features</td>\n",
       "      <td id=\"T_ca8c3_row8_col1\" class=\"data row8 col1\" >1</td>\n",
       "    </tr>\n",
       "    <tr>\n",
       "      <th id=\"T_ca8c3_level0_row9\" class=\"row_heading level0 row9\" >9</th>\n",
       "      <td id=\"T_ca8c3_row9_col0\" class=\"data row9 col0\" >Ordinal features</td>\n",
       "      <td id=\"T_ca8c3_row9_col1\" class=\"data row9 col1\" >5</td>\n",
       "    </tr>\n",
       "    <tr>\n",
       "      <th id=\"T_ca8c3_level0_row10\" class=\"row_heading level0 row10\" >10</th>\n",
       "      <td id=\"T_ca8c3_row10_col0\" class=\"data row10 col0\" >Numeric features</td>\n",
       "      <td id=\"T_ca8c3_row10_col1\" class=\"data row10 col1\" >4</td>\n",
       "    </tr>\n",
       "    <tr>\n",
       "      <th id=\"T_ca8c3_level0_row11\" class=\"row_heading level0 row11\" >11</th>\n",
       "      <td id=\"T_ca8c3_row11_col0\" class=\"data row11 col0\" >Categorical features</td>\n",
       "      <td id=\"T_ca8c3_row11_col1\" class=\"data row11 col1\" >15</td>\n",
       "    </tr>\n",
       "    <tr>\n",
       "      <th id=\"T_ca8c3_level0_row12\" class=\"row_heading level0 row12\" >12</th>\n",
       "      <td id=\"T_ca8c3_row12_col0\" class=\"data row12 col0\" >Rows with missing values</td>\n",
       "      <td id=\"T_ca8c3_row12_col1\" class=\"data row12 col1\" >0.2%</td>\n",
       "    </tr>\n",
       "    <tr>\n",
       "      <th id=\"T_ca8c3_level0_row13\" class=\"row_heading level0 row13\" >13</th>\n",
       "      <td id=\"T_ca8c3_row13_col0\" class=\"data row13 col0\" >Preprocess</td>\n",
       "      <td id=\"T_ca8c3_row13_col1\" class=\"data row13 col1\" >True</td>\n",
       "    </tr>\n",
       "    <tr>\n",
       "      <th id=\"T_ca8c3_level0_row14\" class=\"row_heading level0 row14\" >14</th>\n",
       "      <td id=\"T_ca8c3_row14_col0\" class=\"data row14 col0\" >Imputation type</td>\n",
       "      <td id=\"T_ca8c3_row14_col1\" class=\"data row14 col1\" >simple</td>\n",
       "    </tr>\n",
       "    <tr>\n",
       "      <th id=\"T_ca8c3_level0_row15\" class=\"row_heading level0 row15\" >15</th>\n",
       "      <td id=\"T_ca8c3_row15_col0\" class=\"data row15 col0\" >Numeric imputation</td>\n",
       "      <td id=\"T_ca8c3_row15_col1\" class=\"data row15 col1\" >mean</td>\n",
       "    </tr>\n",
       "    <tr>\n",
       "      <th id=\"T_ca8c3_level0_row16\" class=\"row_heading level0 row16\" >16</th>\n",
       "      <td id=\"T_ca8c3_row16_col0\" class=\"data row16 col0\" >Categorical imputation</td>\n",
       "      <td id=\"T_ca8c3_row16_col1\" class=\"data row16 col1\" >constant</td>\n",
       "    </tr>\n",
       "    <tr>\n",
       "      <th id=\"T_ca8c3_level0_row17\" class=\"row_heading level0 row17\" >17</th>\n",
       "      <td id=\"T_ca8c3_row17_col0\" class=\"data row17 col0\" >Maximum one-hot encoding</td>\n",
       "      <td id=\"T_ca8c3_row17_col1\" class=\"data row17 col1\" >5</td>\n",
       "    </tr>\n",
       "    <tr>\n",
       "      <th id=\"T_ca8c3_level0_row18\" class=\"row_heading level0 row18\" >18</th>\n",
       "      <td id=\"T_ca8c3_row18_col0\" class=\"data row18 col0\" >Encoding method</td>\n",
       "      <td id=\"T_ca8c3_row18_col1\" class=\"data row18 col1\" >None</td>\n",
       "    </tr>\n",
       "    <tr>\n",
       "      <th id=\"T_ca8c3_level0_row19\" class=\"row_heading level0 row19\" >19</th>\n",
       "      <td id=\"T_ca8c3_row19_col0\" class=\"data row19 col0\" >Low variance threshold</td>\n",
       "      <td id=\"T_ca8c3_row19_col1\" class=\"data row19 col1\" >0</td>\n",
       "    </tr>\n",
       "    <tr>\n",
       "      <th id=\"T_ca8c3_level0_row20\" class=\"row_heading level0 row20\" >20</th>\n",
       "      <td id=\"T_ca8c3_row20_col0\" class=\"data row20 col0\" >Fold Generator</td>\n",
       "      <td id=\"T_ca8c3_row20_col1\" class=\"data row20 col1\" >StratifiedKFold</td>\n",
       "    </tr>\n",
       "    <tr>\n",
       "      <th id=\"T_ca8c3_level0_row21\" class=\"row_heading level0 row21\" >21</th>\n",
       "      <td id=\"T_ca8c3_row21_col0\" class=\"data row21 col0\" >Fold Number</td>\n",
       "      <td id=\"T_ca8c3_row21_col1\" class=\"data row21 col1\" >10</td>\n",
       "    </tr>\n",
       "    <tr>\n",
       "      <th id=\"T_ca8c3_level0_row22\" class=\"row_heading level0 row22\" >22</th>\n",
       "      <td id=\"T_ca8c3_row22_col0\" class=\"data row22 col0\" >CPU Jobs</td>\n",
       "      <td id=\"T_ca8c3_row22_col1\" class=\"data row22 col1\" >-1</td>\n",
       "    </tr>\n",
       "    <tr>\n",
       "      <th id=\"T_ca8c3_level0_row23\" class=\"row_heading level0 row23\" >23</th>\n",
       "      <td id=\"T_ca8c3_row23_col0\" class=\"data row23 col0\" >Use GPU</td>\n",
       "      <td id=\"T_ca8c3_row23_col1\" class=\"data row23 col1\" >False</td>\n",
       "    </tr>\n",
       "    <tr>\n",
       "      <th id=\"T_ca8c3_level0_row24\" class=\"row_heading level0 row24\" >24</th>\n",
       "      <td id=\"T_ca8c3_row24_col0\" class=\"data row24 col0\" >Log Experiment</td>\n",
       "      <td id=\"T_ca8c3_row24_col1\" class=\"data row24 col1\" >MlflowLogger</td>\n",
       "    </tr>\n",
       "    <tr>\n",
       "      <th id=\"T_ca8c3_level0_row25\" class=\"row_heading level0 row25\" >25</th>\n",
       "      <td id=\"T_ca8c3_row25_col0\" class=\"data row25 col0\" >Experiment Name</td>\n",
       "      <td id=\"T_ca8c3_row25_col1\" class=\"data row25 col1\" >ExperimentChurn01</td>\n",
       "    </tr>\n",
       "    <tr>\n",
       "      <th id=\"T_ca8c3_level0_row26\" class=\"row_heading level0 row26\" >26</th>\n",
       "      <td id=\"T_ca8c3_row26_col0\" class=\"data row26 col0\" >USI</td>\n",
       "      <td id=\"T_ca8c3_row26_col1\" class=\"data row26 col1\" >7a8d</td>\n",
       "    </tr>\n",
       "  </tbody>\n",
       "</table>\n"
      ],
      "text/plain": [
       "<pandas.io.formats.style.Styler at 0x2193f0507c0>"
      ]
     },
     "metadata": {},
     "output_type": "display_data"
    }
   ],
   "source": [
    "ExperimentChurn01 = setup(data, \n",
    "                          target = 'Churn', \n",
    "                          session_id = 1001, \n",
    "                          ignore_features = ['customerId'], \n",
    "                          log_experiment = True, \n",
    "                          experiment_name = 'ExperimentChurn01')"
   ]
  },
  {
   "cell_type": "markdown",
   "metadata": {},
   "source": [
    "<a id = \"1.0\"></a>\n",
    "<p style=\"font-size:15px;color:#34656d;font-family:'Comic Sans MS';text-align:left;border-radius:5px 5px;\">\n",
    "<strong>Evaluación de modelos</strong></p> "
   ]
  },
  {
   "cell_type": "code",
   "execution_count": 20,
   "metadata": {},
   "outputs": [
    {
     "data": {
      "text/html": [],
      "text/plain": [
       "<IPython.core.display.HTML object>"
      ]
     },
     "metadata": {},
     "output_type": "display_data"
    },
    {
     "data": {
      "text/html": [
       "<style type=\"text/css\">\n",
       "#T_002d9 th {\n",
       "  text-align: left;\n",
       "}\n",
       "#T_002d9_row0_col0, #T_002d9_row0_col3, #T_002d9_row0_col5, #T_002d9_row0_col6, #T_002d9_row0_col7, #T_002d9_row1_col0, #T_002d9_row1_col1, #T_002d9_row1_col2, #T_002d9_row1_col3, #T_002d9_row1_col4, #T_002d9_row2_col0, #T_002d9_row2_col1, #T_002d9_row2_col2, #T_002d9_row2_col3, #T_002d9_row2_col4, #T_002d9_row2_col5, #T_002d9_row2_col6, #T_002d9_row2_col7, #T_002d9_row3_col0, #T_002d9_row3_col1, #T_002d9_row3_col2, #T_002d9_row3_col3, #T_002d9_row3_col4, #T_002d9_row3_col5, #T_002d9_row3_col6, #T_002d9_row3_col7, #T_002d9_row4_col0, #T_002d9_row4_col1, #T_002d9_row4_col2, #T_002d9_row4_col3, #T_002d9_row4_col4, #T_002d9_row4_col5, #T_002d9_row4_col6, #T_002d9_row4_col7, #T_002d9_row5_col0, #T_002d9_row5_col1, #T_002d9_row5_col2, #T_002d9_row5_col3, #T_002d9_row5_col4, #T_002d9_row5_col5, #T_002d9_row5_col6, #T_002d9_row5_col7, #T_002d9_row6_col0, #T_002d9_row6_col1, #T_002d9_row6_col2, #T_002d9_row6_col3, #T_002d9_row6_col4, #T_002d9_row6_col5, #T_002d9_row6_col6, #T_002d9_row6_col7, #T_002d9_row7_col0, #T_002d9_row7_col1, #T_002d9_row7_col2, #T_002d9_row7_col3, #T_002d9_row7_col4, #T_002d9_row7_col5, #T_002d9_row7_col6, #T_002d9_row7_col7, #T_002d9_row8_col0, #T_002d9_row8_col1, #T_002d9_row8_col2, #T_002d9_row8_col3, #T_002d9_row8_col4, #T_002d9_row8_col5, #T_002d9_row8_col6, #T_002d9_row8_col7, #T_002d9_row9_col0, #T_002d9_row9_col1, #T_002d9_row9_col2, #T_002d9_row9_col3, #T_002d9_row9_col4, #T_002d9_row9_col5, #T_002d9_row9_col6, #T_002d9_row9_col7, #T_002d9_row10_col0, #T_002d9_row10_col1, #T_002d9_row10_col2, #T_002d9_row10_col3, #T_002d9_row10_col4, #T_002d9_row10_col5, #T_002d9_row10_col6, #T_002d9_row10_col7, #T_002d9_row11_col0, #T_002d9_row11_col1, #T_002d9_row11_col2, #T_002d9_row11_col3, #T_002d9_row11_col4, #T_002d9_row11_col5, #T_002d9_row11_col6, #T_002d9_row11_col7, #T_002d9_row12_col0, #T_002d9_row12_col1, #T_002d9_row12_col2, #T_002d9_row12_col3, #T_002d9_row12_col4, #T_002d9_row12_col5, #T_002d9_row12_col6, #T_002d9_row12_col7, #T_002d9_row13_col0, #T_002d9_row13_col1, #T_002d9_row13_col2, #T_002d9_row13_col4, #T_002d9_row13_col5, #T_002d9_row13_col6, #T_002d9_row13_col7 {\n",
       "  text-align: left;\n",
       "}\n",
       "#T_002d9_row0_col1, #T_002d9_row0_col2, #T_002d9_row0_col4, #T_002d9_row1_col5, #T_002d9_row1_col6, #T_002d9_row1_col7, #T_002d9_row13_col3 {\n",
       "  text-align: left;\n",
       "  background-color: yellow;\n",
       "}\n",
       "#T_002d9_row0_col8, #T_002d9_row1_col8, #T_002d9_row2_col8, #T_002d9_row3_col8, #T_002d9_row4_col8, #T_002d9_row5_col8, #T_002d9_row6_col8, #T_002d9_row7_col8, #T_002d9_row8_col8, #T_002d9_row9_col8, #T_002d9_row10_col8, #T_002d9_row11_col8, #T_002d9_row13_col8 {\n",
       "  text-align: left;\n",
       "  background-color: lightgrey;\n",
       "}\n",
       "#T_002d9_row12_col8 {\n",
       "  text-align: left;\n",
       "  background-color: yellow;\n",
       "  background-color: lightgrey;\n",
       "}\n",
       "</style>\n",
       "<table id=\"T_002d9\">\n",
       "  <thead>\n",
       "    <tr>\n",
       "      <th class=\"blank level0\" >&nbsp;</th>\n",
       "      <th id=\"T_002d9_level0_col0\" class=\"col_heading level0 col0\" >Model</th>\n",
       "      <th id=\"T_002d9_level0_col1\" class=\"col_heading level0 col1\" >Accuracy</th>\n",
       "      <th id=\"T_002d9_level0_col2\" class=\"col_heading level0 col2\" >AUC</th>\n",
       "      <th id=\"T_002d9_level0_col3\" class=\"col_heading level0 col3\" >Recall</th>\n",
       "      <th id=\"T_002d9_level0_col4\" class=\"col_heading level0 col4\" >Prec.</th>\n",
       "      <th id=\"T_002d9_level0_col5\" class=\"col_heading level0 col5\" >F1</th>\n",
       "      <th id=\"T_002d9_level0_col6\" class=\"col_heading level0 col6\" >Kappa</th>\n",
       "      <th id=\"T_002d9_level0_col7\" class=\"col_heading level0 col7\" >MCC</th>\n",
       "      <th id=\"T_002d9_level0_col8\" class=\"col_heading level0 col8\" >TT (Sec)</th>\n",
       "    </tr>\n",
       "  </thead>\n",
       "  <tbody>\n",
       "    <tr>\n",
       "      <th id=\"T_002d9_level0_row0\" class=\"row_heading level0 row0\" >gbc</th>\n",
       "      <td id=\"T_002d9_row0_col0\" class=\"data row0 col0\" >Gradient Boosting Classifier</td>\n",
       "      <td id=\"T_002d9_row0_col1\" class=\"data row0 col1\" >0.8077</td>\n",
       "      <td id=\"T_002d9_row0_col2\" class=\"data row0 col2\" >0.8482</td>\n",
       "      <td id=\"T_002d9_row0_col3\" class=\"data row0 col3\" >0.5306</td>\n",
       "      <td id=\"T_002d9_row0_col4\" class=\"data row0 col4\" >0.6765</td>\n",
       "      <td id=\"T_002d9_row0_col5\" class=\"data row0 col5\" >0.5939</td>\n",
       "      <td id=\"T_002d9_row0_col6\" class=\"data row0 col6\" >0.4705</td>\n",
       "      <td id=\"T_002d9_row0_col7\" class=\"data row0 col7\" >0.4769</td>\n",
       "      <td id=\"T_002d9_row0_col8\" class=\"data row0 col8\" >0.5470</td>\n",
       "    </tr>\n",
       "    <tr>\n",
       "      <th id=\"T_002d9_level0_row1\" class=\"row_heading level0 row1\" >lr</th>\n",
       "      <td id=\"T_002d9_row1_col0\" class=\"data row1 col0\" >Logistic Regression</td>\n",
       "      <td id=\"T_002d9_row1_col1\" class=\"data row1 col1\" >0.8065</td>\n",
       "      <td id=\"T_002d9_row1_col2\" class=\"data row1 col2\" >0.8454</td>\n",
       "      <td id=\"T_002d9_row1_col3\" class=\"data row1 col3\" >0.5566</td>\n",
       "      <td id=\"T_002d9_row1_col4\" class=\"data row1 col4\" >0.6620</td>\n",
       "      <td id=\"T_002d9_row1_col5\" class=\"data row1 col5\" >0.6042</td>\n",
       "      <td id=\"T_002d9_row1_col6\" class=\"data row1 col6\" >0.4774</td>\n",
       "      <td id=\"T_002d9_row1_col7\" class=\"data row1 col7\" >0.4810</td>\n",
       "      <td id=\"T_002d9_row1_col8\" class=\"data row1 col8\" >4.1790</td>\n",
       "    </tr>\n",
       "    <tr>\n",
       "      <th id=\"T_002d9_level0_row2\" class=\"row_heading level0 row2\" >ridge</th>\n",
       "      <td id=\"T_002d9_row2_col0\" class=\"data row2 col0\" >Ridge Classifier</td>\n",
       "      <td id=\"T_002d9_row2_col1\" class=\"data row2 col1\" >0.8041</td>\n",
       "      <td id=\"T_002d9_row2_col2\" class=\"data row2 col2\" >0.0000</td>\n",
       "      <td id=\"T_002d9_row2_col3\" class=\"data row2 col3\" >0.5252</td>\n",
       "      <td id=\"T_002d9_row2_col4\" class=\"data row2 col4\" >0.6675</td>\n",
       "      <td id=\"T_002d9_row2_col5\" class=\"data row2 col5\" >0.5871</td>\n",
       "      <td id=\"T_002d9_row2_col6\" class=\"data row2 col6\" >0.4611</td>\n",
       "      <td id=\"T_002d9_row2_col7\" class=\"data row2 col7\" >0.4673</td>\n",
       "      <td id=\"T_002d9_row2_col8\" class=\"data row2 col8\" >0.3030</td>\n",
       "    </tr>\n",
       "    <tr>\n",
       "      <th id=\"T_002d9_level0_row3\" class=\"row_heading level0 row3\" >ada</th>\n",
       "      <td id=\"T_002d9_row3_col0\" class=\"data row3 col0\" >Ada Boost Classifier</td>\n",
       "      <td id=\"T_002d9_row3_col1\" class=\"data row3 col1\" >0.8028</td>\n",
       "      <td id=\"T_002d9_row3_col2\" class=\"data row3 col2\" >0.8426</td>\n",
       "      <td id=\"T_002d9_row3_col3\" class=\"data row3 col3\" >0.5344</td>\n",
       "      <td id=\"T_002d9_row3_col4\" class=\"data row3 col4\" >0.6592</td>\n",
       "      <td id=\"T_002d9_row3_col5\" class=\"data row3 col5\" >0.5899</td>\n",
       "      <td id=\"T_002d9_row3_col6\" class=\"data row3 col6\" >0.4620</td>\n",
       "      <td id=\"T_002d9_row3_col7\" class=\"data row3 col7\" >0.4667</td>\n",
       "      <td id=\"T_002d9_row3_col8\" class=\"data row3 col8\" >0.3490</td>\n",
       "    </tr>\n",
       "    <tr>\n",
       "      <th id=\"T_002d9_level0_row4\" class=\"row_heading level0 row4\" >lda</th>\n",
       "      <td id=\"T_002d9_row4_col0\" class=\"data row4 col0\" >Linear Discriminant Analysis</td>\n",
       "      <td id=\"T_002d9_row4_col1\" class=\"data row4 col1\" >0.7988</td>\n",
       "      <td id=\"T_002d9_row4_col2\" class=\"data row4 col2\" >0.8375</td>\n",
       "      <td id=\"T_002d9_row4_col3\" class=\"data row4 col3\" >0.5589</td>\n",
       "      <td id=\"T_002d9_row4_col4\" class=\"data row4 col4\" >0.6386</td>\n",
       "      <td id=\"T_002d9_row4_col5\" class=\"data row4 col5\" >0.5956</td>\n",
       "      <td id=\"T_002d9_row4_col6\" class=\"data row4 col6\" >0.4626</td>\n",
       "      <td id=\"T_002d9_row4_col7\" class=\"data row4 col7\" >0.4647</td>\n",
       "      <td id=\"T_002d9_row4_col8\" class=\"data row4 col8\" >0.2810</td>\n",
       "    </tr>\n",
       "    <tr>\n",
       "      <th id=\"T_002d9_level0_row5\" class=\"row_heading level0 row5\" >rf</th>\n",
       "      <td id=\"T_002d9_row5_col0\" class=\"data row5 col0\" >Random Forest Classifier</td>\n",
       "      <td id=\"T_002d9_row5_col1\" class=\"data row5 col1\" >0.7953</td>\n",
       "      <td id=\"T_002d9_row5_col2\" class=\"data row5 col2\" >0.8234</td>\n",
       "      <td id=\"T_002d9_row5_col3\" class=\"data row5 col3\" >0.4886</td>\n",
       "      <td id=\"T_002d9_row5_col4\" class=\"data row5 col4\" >0.6537</td>\n",
       "      <td id=\"T_002d9_row5_col5\" class=\"data row5 col5\" >0.5588</td>\n",
       "      <td id=\"T_002d9_row5_col6\" class=\"data row5 col6\" >0.4292</td>\n",
       "      <td id=\"T_002d9_row5_col7\" class=\"data row5 col7\" >0.4371</td>\n",
       "      <td id=\"T_002d9_row5_col8\" class=\"data row5 col8\" >0.4410</td>\n",
       "    </tr>\n",
       "    <tr>\n",
       "      <th id=\"T_002d9_level0_row6\" class=\"row_heading level0 row6\" >lightgbm</th>\n",
       "      <td id=\"T_002d9_row6_col0\" class=\"data row6 col0\" >Light Gradient Boosting Machine</td>\n",
       "      <td id=\"T_002d9_row6_col1\" class=\"data row6 col1\" >0.7951</td>\n",
       "      <td id=\"T_002d9_row6_col2\" class=\"data row6 col2\" >0.8345</td>\n",
       "      <td id=\"T_002d9_row6_col3\" class=\"data row6 col3\" >0.5168</td>\n",
       "      <td id=\"T_002d9_row6_col4\" class=\"data row6 col4\" >0.6433</td>\n",
       "      <td id=\"T_002d9_row6_col5\" class=\"data row6 col5\" >0.5725</td>\n",
       "      <td id=\"T_002d9_row6_col6\" class=\"data row6 col6\" >0.4400</td>\n",
       "      <td id=\"T_002d9_row6_col7\" class=\"data row6 col7\" >0.4449</td>\n",
       "      <td id=\"T_002d9_row6_col8\" class=\"data row6 col8\" >0.3320</td>\n",
       "    </tr>\n",
       "    <tr>\n",
       "      <th id=\"T_002d9_level0_row7\" class=\"row_heading level0 row7\" >et</th>\n",
       "      <td id=\"T_002d9_row7_col0\" class=\"data row7 col0\" >Extra Trees Classifier</td>\n",
       "      <td id=\"T_002d9_row7_col1\" class=\"data row7 col1\" >0.7761</td>\n",
       "      <td id=\"T_002d9_row7_col2\" class=\"data row7 col2\" >0.7987</td>\n",
       "      <td id=\"T_002d9_row7_col3\" class=\"data row7 col3\" >0.4786</td>\n",
       "      <td id=\"T_002d9_row7_col4\" class=\"data row7 col4\" >0.5994</td>\n",
       "      <td id=\"T_002d9_row7_col5\" class=\"data row7 col5\" >0.5314</td>\n",
       "      <td id=\"T_002d9_row7_col6\" class=\"data row7 col6\" >0.3868</td>\n",
       "      <td id=\"T_002d9_row7_col7\" class=\"data row7 col7\" >0.3916</td>\n",
       "      <td id=\"T_002d9_row7_col8\" class=\"data row7 col8\" >0.4260</td>\n",
       "    </tr>\n",
       "    <tr>\n",
       "      <th id=\"T_002d9_level0_row8\" class=\"row_heading level0 row8\" >knn</th>\n",
       "      <td id=\"T_002d9_row8_col0\" class=\"data row8 col0\" >K Neighbors Classifier</td>\n",
       "      <td id=\"T_002d9_row8_col1\" class=\"data row8 col1\" >0.7734</td>\n",
       "      <td id=\"T_002d9_row8_col2\" class=\"data row8 col2\" >0.7496</td>\n",
       "      <td id=\"T_002d9_row8_col3\" class=\"data row8 col3\" >0.4618</td>\n",
       "      <td id=\"T_002d9_row8_col4\" class=\"data row8 col4\" >0.5955</td>\n",
       "      <td id=\"T_002d9_row8_col5\" class=\"data row8 col5\" >0.5188</td>\n",
       "      <td id=\"T_002d9_row8_col6\" class=\"data row8 col6\" >0.3740</td>\n",
       "      <td id=\"T_002d9_row8_col7\" class=\"data row8 col7\" >0.3799</td>\n",
       "      <td id=\"T_002d9_row8_col8\" class=\"data row8 col8\" >0.2610</td>\n",
       "    </tr>\n",
       "    <tr>\n",
       "      <th id=\"T_002d9_level0_row9\" class=\"row_heading level0 row9\" >dummy</th>\n",
       "      <td id=\"T_002d9_row9_col0\" class=\"data row9 col0\" >Dummy Classifier</td>\n",
       "      <td id=\"T_002d9_row9_col1\" class=\"data row9 col1\" >0.7347</td>\n",
       "      <td id=\"T_002d9_row9_col2\" class=\"data row9 col2\" >0.5000</td>\n",
       "      <td id=\"T_002d9_row9_col3\" class=\"data row9 col3\" >0.0000</td>\n",
       "      <td id=\"T_002d9_row9_col4\" class=\"data row9 col4\" >0.0000</td>\n",
       "      <td id=\"T_002d9_row9_col5\" class=\"data row9 col5\" >0.0000</td>\n",
       "      <td id=\"T_002d9_row9_col6\" class=\"data row9 col6\" >0.0000</td>\n",
       "      <td id=\"T_002d9_row9_col7\" class=\"data row9 col7\" >0.0000</td>\n",
       "      <td id=\"T_002d9_row9_col8\" class=\"data row9 col8\" >0.4120</td>\n",
       "    </tr>\n",
       "    <tr>\n",
       "      <th id=\"T_002d9_level0_row10\" class=\"row_heading level0 row10\" >dt</th>\n",
       "      <td id=\"T_002d9_row10_col0\" class=\"data row10 col0\" >Decision Tree Classifier</td>\n",
       "      <td id=\"T_002d9_row10_col1\" class=\"data row10 col1\" >0.7304</td>\n",
       "      <td id=\"T_002d9_row10_col2\" class=\"data row10 col2\" >0.6620</td>\n",
       "      <td id=\"T_002d9_row10_col3\" class=\"data row10 col3\" >0.5130</td>\n",
       "      <td id=\"T_002d9_row10_col4\" class=\"data row10 col4\" >0.4930</td>\n",
       "      <td id=\"T_002d9_row10_col5\" class=\"data row10 col5\" >0.5025</td>\n",
       "      <td id=\"T_002d9_row10_col6\" class=\"data row10 col6\" >0.3178</td>\n",
       "      <td id=\"T_002d9_row10_col7\" class=\"data row10 col7\" >0.3181</td>\n",
       "      <td id=\"T_002d9_row10_col8\" class=\"data row10 col8\" >0.2810</td>\n",
       "    </tr>\n",
       "    <tr>\n",
       "      <th id=\"T_002d9_level0_row11\" class=\"row_heading level0 row11\" >nb</th>\n",
       "      <td id=\"T_002d9_row11_col0\" class=\"data row11 col0\" >Naive Bayes</td>\n",
       "      <td id=\"T_002d9_row11_col1\" class=\"data row11 col1\" >0.6925</td>\n",
       "      <td id=\"T_002d9_row11_col2\" class=\"data row11 col2\" >0.8224</td>\n",
       "      <td id=\"T_002d9_row11_col3\" class=\"data row11 col3\" >0.8448</td>\n",
       "      <td id=\"T_002d9_row11_col4\" class=\"data row11 col4\" >0.4576</td>\n",
       "      <td id=\"T_002d9_row11_col5\" class=\"data row11 col5\" >0.5933</td>\n",
       "      <td id=\"T_002d9_row11_col6\" class=\"data row11 col6\" >0.3797</td>\n",
       "      <td id=\"T_002d9_row11_col7\" class=\"data row11 col7\" >0.4265</td>\n",
       "      <td id=\"T_002d9_row11_col8\" class=\"data row11 col8\" >0.2690</td>\n",
       "    </tr>\n",
       "    <tr>\n",
       "      <th id=\"T_002d9_level0_row12\" class=\"row_heading level0 row12\" >svm</th>\n",
       "      <td id=\"T_002d9_row12_col0\" class=\"data row12 col0\" >SVM - Linear Kernel</td>\n",
       "      <td id=\"T_002d9_row12_col1\" class=\"data row12 col1\" >0.6769</td>\n",
       "      <td id=\"T_002d9_row12_col2\" class=\"data row12 col2\" >0.0000</td>\n",
       "      <td id=\"T_002d9_row12_col3\" class=\"data row12 col3\" >0.5898</td>\n",
       "      <td id=\"T_002d9_row12_col4\" class=\"data row12 col4\" >0.5447</td>\n",
       "      <td id=\"T_002d9_row12_col5\" class=\"data row12 col5\" >0.4886</td>\n",
       "      <td id=\"T_002d9_row12_col6\" class=\"data row12 col6\" >0.2944</td>\n",
       "      <td id=\"T_002d9_row12_col7\" class=\"data row12 col7\" >0.3422</td>\n",
       "      <td id=\"T_002d9_row12_col8\" class=\"data row12 col8\" >0.2590</td>\n",
       "    </tr>\n",
       "    <tr>\n",
       "      <th id=\"T_002d9_level0_row13\" class=\"row_heading level0 row13\" >qda</th>\n",
       "      <td id=\"T_002d9_row13_col0\" class=\"data row13 col0\" >Quadratic Discriminant Analysis</td>\n",
       "      <td id=\"T_002d9_row13_col1\" class=\"data row13 col1\" >0.6339</td>\n",
       "      <td id=\"T_002d9_row13_col2\" class=\"data row13 col2\" >0.8344</td>\n",
       "      <td id=\"T_002d9_row13_col3\" class=\"data row13 col3\" >0.9190</td>\n",
       "      <td id=\"T_002d9_row13_col4\" class=\"data row13 col4\" >0.4150</td>\n",
       "      <td id=\"T_002d9_row13_col5\" class=\"data row13 col5\" >0.5716</td>\n",
       "      <td id=\"T_002d9_row13_col6\" class=\"data row13 col6\" >0.3244</td>\n",
       "      <td id=\"T_002d9_row13_col7\" class=\"data row13 col7\" >0.4038</td>\n",
       "      <td id=\"T_002d9_row13_col8\" class=\"data row13 col8\" >0.3200</td>\n",
       "    </tr>\n",
       "  </tbody>\n",
       "</table>\n"
      ],
      "text/plain": [
       "<pandas.io.formats.style.Styler at 0x2193c53d790>"
      ]
     },
     "metadata": {},
     "output_type": "display_data"
    },
    {
     "data": {
      "application/vnd.jupyter.widget-view+json": {
       "model_id": "",
       "version_major": 2,
       "version_minor": 0
      },
      "text/plain": [
       "Processing:   0%|          | 0/61 [00:00<?, ?it/s]"
      ]
     },
     "metadata": {},
     "output_type": "display_data"
    }
   ],
   "source": [
    "best_model = compare_models()"
   ]
  },
  {
   "cell_type": "markdown",
   "metadata": {},
   "source": [
    "<a id = \"1.0\"></a>\n",
    "<p style=\"font-size:15px;color:#34656d;font-family:'Comic Sans MS';text-align:left;border-radius:5px 5px;\">\n",
    "<strong>Mejor modelo obtenido</strong></p> "
   ]
  },
  {
   "cell_type": "code",
   "execution_count": 21,
   "metadata": {},
   "outputs": [
    {
     "name": "stdout",
     "output_type": "stream",
     "text": [
      "GradientBoostingClassifier(ccp_alpha=0.0, criterion='friedman_mse', init=None,\n",
      "                           learning_rate=0.1, loss='log_loss', max_depth=3,\n",
      "                           max_features=None, max_leaf_nodes=None,\n",
      "                           min_impurity_decrease=0.0, min_samples_leaf=1,\n",
      "                           min_samples_split=2, min_weight_fraction_leaf=0.0,\n",
      "                           n_estimators=100, n_iter_no_change=None,\n",
      "                           random_state=1001, subsample=1.0, tol=0.0001,\n",
      "                           validation_fraction=0.1, verbose=0,\n",
      "                           warm_start=False)\n"
     ]
    }
   ],
   "source": [
    "print(best_model)"
   ]
  },
  {
   "cell_type": "markdown",
   "metadata": {},
   "source": [
    "<a id = \"1.0\"></a>\n",
    "<p style=\"font-size:15px;color:#34656d;font-family:'Comic Sans MS';text-align:left;border-radius:5px 5px;\">\n",
    "<strong>Guardar Modelo - Pipeline</strong></p> "
   ]
  },
  {
   "cell_type": "code",
   "execution_count": 22,
   "metadata": {},
   "outputs": [
    {
     "name": "stdout",
     "output_type": "stream",
     "text": [
      "Transformation Pipeline and Model Successfully Saved\n"
     ]
    },
    {
     "data": {
      "text/plain": [
       "(Pipeline(memory=Memory(location=h:\\tmp\\joblib),\n",
       "          steps=[('label_encoding',\n",
       "                  TransformerWrapperWithInverse(exclude=None, include=None,\n",
       "                                                transformer=LabelEncoder())),\n",
       "                 ('numerical_imputer',\n",
       "                  TransformerWrapper(exclude=None,\n",
       "                                     include=['SeniorCitizen', 'tenure',\n",
       "                                              'MonthlyCharges', 'TotalCharges'],\n",
       "                                     transformer=SimpleImputer(add_indicator=False,\n",
       "                                                               copy=True,\n",
       "                                                               fill_value=None,\n",
       "                                                               m...\n",
       "                                             criterion='friedman_mse', init=None,\n",
       "                                             learning_rate=0.1, loss='log_loss',\n",
       "                                             max_depth=3, max_features=None,\n",
       "                                             max_leaf_nodes=None,\n",
       "                                             min_impurity_decrease=0.0,\n",
       "                                             min_samples_leaf=1,\n",
       "                                             min_samples_split=2,\n",
       "                                             min_weight_fraction_leaf=0.0,\n",
       "                                             n_estimators=100,\n",
       "                                             n_iter_no_change=None,\n",
       "                                             random_state=1001, subsample=1.0,\n",
       "                                             tol=0.0001, validation_fraction=0.1,\n",
       "                                             verbose=0, warm_start=False))],\n",
       "          verbose=False),\n",
       " './pkl/ExperimentChurn01.pkl')"
      ]
     },
     "execution_count": 22,
     "metadata": {},
     "output_type": "execute_result"
    }
   ],
   "source": [
    "save_model(best_model, './pkl/ExperimentChurn01')"
   ]
  },
  {
   "cell_type": "markdown",
   "metadata": {},
   "source": [
    "<a id = \"1.0\"></a>\n",
    "<p style=\"font-size:15px;color:#34656d;font-family:'Comic Sans MS';text-align:left;border-radius:5px 5px;\">\n",
    "<strong>Cargar modelo</strong></p> "
   ]
  },
  {
   "cell_type": "code",
   "execution_count": 23,
   "metadata": {},
   "outputs": [
    {
     "name": "stdout",
     "output_type": "stream",
     "text": [
      "Transformation Pipeline and Model Successfully Loaded\n"
     ]
    }
   ],
   "source": [
    "LoadExperimentChurn01 = load_model('./pkl/ExperimentChurn01')"
   ]
  },
  {
   "cell_type": "markdown",
   "metadata": {},
   "source": [
    "<a id = \"1.0\"></a>\n",
    "<p style=\"font-size:25px;color:#34656d;font-family:'Comic Sans MS';text-align:center;border-radius:5px 5px;\">\n",
    "<strong>_______________________________________________________</strong></p> "
   ]
  },
  {
   "cell_type": "markdown",
   "metadata": {},
   "source": [
    "![github](img/MLOps.webp)"
   ]
  },
  {
   "cell_type": "markdown",
   "metadata": {},
   "source": [
    "<a id = \"1.0\"></a>\n",
    "<p style=\"font-size:25px;color:#34656d;font-family:'Comic Sans MS';text-align:center;border-radius:5px 5px;\">\n",
    "<strong>_______________________________________________________</strong></p> "
   ]
  },
  {
   "cell_type": "markdown",
   "metadata": {},
   "source": [
    "![MLFlow](img/MLFlow.png)"
   ]
  },
  {
   "cell_type": "markdown",
   "metadata": {},
   "source": [
    "<a id = \"1.0\"></a>\n",
    "<p style=\"font-size:15px;color:#34656d;font-family:'Comic Sans MS';text-align:left;border-radius:5px 5px;\">\n",
    "<strong>Cargar MLFlow:</strong><br>\n",
    "Acceder a una consola de Anaconda, cargar el mismo ambiente que se esta utilizando y navegar hasta el directorio donde se encuentra este notebook<br>\n",
    "<strong>Ejecutar el comando:</strong><br>\n",
    "mlflow ui <br>\n",
    "<strong>En una ventana del Browser acceder a:</strong><br>\n",
    "https://localhost:5000</p> "
   ]
  },
  {
   "cell_type": "markdown",
   "metadata": {},
   "source": [
    "<p style=\"font-size:15px;color:#34656d;font-family:'Comic Sans MS';text-align:left;border-radius:5px 5px;\">\n",
    "<strong><u>Comentario:</u></strong><br> \n",
    "Se debería poder observar un experimento llamado <strong>ExperimentChurn01</strong><BR>\n",
    "Esto es por haber configurado en Pycaret en el comando setup los parametros \n",
    "<ul style=\"font-size:15px;color:#34656d;font-family:'Comic Sans MS';text-align:left;border-radius:5px 5px;\">\n",
    "<li><i>log_experiment = True</i></li>\n",
    "<li><i>experiment_name = 'ExperimentChurn01'</i></li>\n",
    "</ul> \n",
    "</p>  \n",
    "<p style=\"font-size:15px;color:#34656d;font-family:'Comic Sans MS';text-align:left;border-radius:5px 5px;\">\n",
    "    Por cada experimento se deberia cambiar <b><i>\"experiment_name\"</i></b> así se tienen la trazabilidad de los mismos\n",
    "</p>    "
   ]
  },
  {
   "cell_type": "markdown",
   "metadata": {},
   "source": [
    "<a id = \"1.0\"></a>\n",
    "<p style=\"font-size:20px;color:#34656d;font-family:'Comic Sans MS';text-align:center;border-radius:5px 5px;\">\n",
    "<strong>__________________________________________</strong></p>"
   ]
  },
  {
   "cell_type": "markdown",
   "metadata": {},
   "source": [
    "![github](img/github.jpg)"
   ]
  },
  {
   "cell_type": "markdown",
   "metadata": {},
   "source": [
    "<p style=\"font-size:15px;color:#34656d;font-family:'Comic Sans MS';text-align:left;border-radius:5px 5px;\">\n",
    "<strong><u>Herramientas y Soporte Bibliográfico:</u></strong><br> \n",
    "<a href=\"https://desktop.github.com/\" target=\\\"_blank\\\">GitHub Desktop&nbsp;-&nbsp;Simplifies your development workflow</a><br>\n",
    "<a href=\"https://docs.github.com/es/desktop/installing-and-configuring-github-desktop/overview/getting-started-with-github-desktop\" target=\\\"_blank\\\">Tutorial GitHub Desktop</a><br>\n",
    "<a href=\"https://www.youtube.com/watch?v=UISDyE9KMlI\" target=\\\"_blank\\\">Github Desktop&nbsp;-&nbsp;Youtube</a><br> \n",
    "</p>    "
   ]
  },
  {
   "cell_type": "markdown",
   "metadata": {},
   "source": [
    "<a id = \"1.0\"></a>\n",
    "<p style=\"font-size:20px;color:#34656d;font-family:'Comic Sans MS';text-align:center;border-radius:5px 5px;\">\n",
    "<strong>__________________________________________</strong></p>"
   ]
  },
  {
   "cell_type": "markdown",
   "metadata": {},
   "source": [
    "![dagshub](img/Dagshub.png)"
   ]
  },
  {
   "cell_type": "markdown",
   "metadata": {},
   "source": [
    "<p style=\"font-size:15px;color:#34656d;font-family:'Comic Sans MS';text-align:left;border-radius:5px 5px;\">\n",
    "<strong><u>Soporte Bibliográfico:</u></strong><br> \n",
    "<a href=\"https://dagshub.com/docs/\" target=\\\"_blank\\\">Welcome to the DagsHub Docs</a><br>\n",
    "</p>  "
   ]
  },
  {
   "cell_type": "markdown",
   "metadata": {},
   "source": [
    "<a id = \"1.0\"></a>\n",
    "<p style=\"font-size:20px;color:#34656d;font-family:'Comic Sans MS';text-align:center;border-radius:5px 5px;\">\n",
    "<strong>__________________________________________</strong></p>"
   ]
  },
  {
   "cell_type": "markdown",
   "metadata": {},
   "source": [
    "![dvc](img/dvc.svg)"
   ]
  },
  {
   "cell_type": "markdown",
   "metadata": {},
   "source": [
    "<p style=\"font-size:15px;color:#34656d;font-family:'Comic Sans MS';text-align:left;border-radius:5px 5px;\">\n",
    "<strong><u>Soporte Bibliográfico:</u></strong><br> \n",
    "<a href=\"https://dvc.org/doc/start\" target=\\\"_blank\\\">Get Started</a><br>\n",
    "<a href=\"https://dvc.org/doc/use-cases/versioning-data-and-models/tutorial\" target=\\\"_blank\\\">Tutorial: Data and Model Versioning</a><br> \n",
    "<a href=\"https://dagshub.com/docs/getting_started/create_a_dagshub_project/\" target=\\\"_blank\\\">Create a Project on DagsHub</a><br>\n",
    "<a href=\"https://dagshub.com/docs/feature_guide/dagshub_storage/\" target=\\\"_blank\\\">DagsHub Storage</a><br>    \n",
    "</p>  "
   ]
  },
  {
   "cell_type": "markdown",
   "metadata": {},
   "source": [
    "<a id = \"1.0\"></a>\n",
    "<p style=\"font-size:15px;color:#34656d;font-family:'Comic Sans MS';text-align:left;border-radius:5px 5px;\">\n",
    "<strong>Versionado de Datos:</strong><br>\n",
    "Instalar la aplicacion DvC<br>\n",
    "Acceder a una consola del sistema operativo y navegar hasta el directorio donde se encuentra este notebook<br>\n",
    "<strong>Ejecutar los siguentes comandos donde se encuentrans los datos:</strong></p> \n",
    "<p style=\"font-size:15px;color:#34656d;font-family:'Courier';text-align:left;border-radius:5px 5px;\">\n",
    "<strong>\n",
    "dvc init<br>\n",
    "dvc remote add origin \"Nombre de Repositorio Creado en DagsHub - URL\"<br>  \n",
    "dvc remote modify origin --local auth basic<br>\n",
    "dvc remote modify origin --local user \"SU USUARIO\"<br>\n",
    "dvc remote modify origin --local password \"SU CLAVE\"<br>\n",
    "dvc push<br>\n",
    "</strong>    \n",
    "</p> "
   ]
  },
  {
   "cell_type": "markdown",
   "metadata": {},
   "source": [
    "<a id = \"1.0\"></a>\n",
    "<p style=\"font-size:15px;color:#34656d;font-family:'Comic Sans MS';text-align:left;border-radius:5px 5px;\">\n",
    "<strong>Trabajo diario:</strong><br>\n",
    "Acceder a una consola del sistema operativo y navegar hasta el directorio donde se encuentra este notebook<br>\n",
    "<strong>Cuando se desea conectarse al repositorio:</strong></p> \n",
    "<p style=\"font-size:15px;color:#34656d;font-family:'Courier';text-align:left;border-radius:5px 5px;\">\n",
    "<strong>\n",
    "dvc remote modify origin --local auth basic<br>\n",
    "dvc remote modify origin --local user \"SU USUARIO\"<br>\n",
    "dvc remote modify origin --local password \"SU CLAVE\"<br>\n",
    "</strong><br> \n",
    "<p style=\"font-size:15px;color:#34656d;font-family:'Comic Sans MS';text-align:left;border-radius:5px 5px;\">\n",
    "<strong>Cuando se desea subir datos:</strong></p> \n",
    "<p style=\"font-size:15px;color:#34656d;font-family:'Courier';text-align:left;border-radius:5px 5px;\">\n",
    "<strong>\n",
    "dvc push -r origin<br>\n",
    "</strong>    \n",
    "<p style=\"font-size:15px;color:#34656d;font-family:'Comic Sans MS';text-align:left;border-radius:5px 5px;\">\n",
    "<strong>Cuando se desea bajar datos:</strong></p> \n",
    "<p style=\"font-size:15px;color:#34656d;font-family:'Courier';text-align:left;border-radius:5px 5px;\">\n",
    "<strong>\n",
    "dvc pull -r origin<br>\n",
    "</strong>    \n",
    "</p> "
   ]
  },
  {
   "cell_type": "markdown",
   "metadata": {},
   "source": [
    "<p style=\"font-size:15px;color:#34656d;font-family:'Comic Sans MS';text-align:left;border-radius:5px 5px;\">\n",
    "<strong><u>Comentario:</u></strong><br> \n",
    "Se deberia recibir un mensaje similar a <b>\"Everything is up to date.\"</b> si no se modifico el dataset</p>"
   ]
  },
  {
   "cell_type": "markdown",
   "metadata": {},
   "source": [
    "![dvc](img/pullpush.png)"
   ]
  },
  {
   "cell_type": "markdown",
   "metadata": {},
   "source": [
    "<a id = \"1.0\"></a>\n",
    "<p style=\"font-size:20px;color:#34656d;font-family:'Comic Sans MS';text-align:center;border-radius:5px 5px;\">\n",
    "<strong>__________________________________________</strong></p>"
   ]
  },
  {
   "cell_type": "markdown",
   "metadata": {},
   "source": [
    "<a id = \"1.0\"></a>\n",
    "<p style=\"font-size:20px;color:#34656d;font-family:'Comic Sans MS';text-align:center;border-radius:5px 5px;\">\n",
    "<strong>__________________________________________</strong></p>"
   ]
  },
  {
   "cell_type": "markdown",
   "metadata": {},
   "source": [
    "<a id = \"1.0\"></a>\n",
    "<p style=\"font-size:20px;color:#34656d;font-family:'Comic Sans MS';text-align:center;border-radius:5px 5px;\">\n",
    "<strong>__________________________________________</strong></p>"
   ]
  }
 ],
 "metadata": {
  "kernelspec": {
   "display_name": "MlLab",
   "language": "python",
   "name": "mllab"
  },
  "language_info": {
   "codemirror_mode": {
    "name": "ipython",
    "version": 3
   },
   "file_extension": ".py",
   "mimetype": "text/x-python",
   "name": "python",
   "nbconvert_exporter": "python",
   "pygments_lexer": "ipython3",
   "version": "3.9.13"
  }
 },
 "nbformat": 4,
 "nbformat_minor": 4
}
